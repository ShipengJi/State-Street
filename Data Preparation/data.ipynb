{
 "cells": [
  {
   "cell_type": "code",
   "execution_count": 1,
   "metadata": {},
   "outputs": [],
   "source": [
    "import pandas as pd\n",
    "import os\n",
    "import pandas as pd"
   ]
  },
  {
   "cell_type": "code",
   "execution_count": 22,
   "metadata": {},
   "outputs": [
    {
     "data": {
      "text/plain": [
       "dict_keys(['US_10Y_treasury_yield', 'US_2Y_treasury_yield', 'US_CPI', 'Russell_2000', 'US_PMI', 'US_3-month_T-bill_yield', 'Russell_1000'])"
      ]
     },
     "execution_count": 22,
     "metadata": {},
     "output_type": "execute_result"
    }
   ],
   "source": [
    "# Specify the folder path containing your CSV files\n",
    "folder_path = './'\n",
    "\n",
    "# Initialize an empty dictionary to store DataFrames\n",
    "dfs = {}\n",
    "\n",
    "# Loop through files in the folder\n",
    "for filename in os.listdir(folder_path):\n",
    "    if filename.endswith('.csv'):  # Check if the file is a CSV file\n",
    "        file_path = os.path.join(folder_path, filename)  # Get the full file path\n",
    "        # Read the CSV file into a DataFrame and store it in the dictionary\n",
    "        df_name = os.path.splitext(filename)[0]  # Use the filename (without extension) as the DataFrame name\n",
    "        dfs[df_name] = pd.read_csv(file_path)\n",
    "\n",
    "dfs.keys()  # Check the dictionary keys"
   ]
  },
  {
   "cell_type": "code",
   "execution_count": null,
   "metadata": {},
   "outputs": [],
   "source": []
  }
 ],
 "metadata": {
  "kernelspec": {
   "display_name": "base",
   "language": "python",
   "name": "python3"
  },
  "language_info": {
   "codemirror_mode": {
    "name": "ipython",
    "version": 3
   },
   "file_extension": ".py",
   "mimetype": "text/x-python",
   "name": "python",
   "nbconvert_exporter": "python",
   "pygments_lexer": "ipython3",
   "version": "3.11.3"
  },
  "orig_nbformat": 4
 },
 "nbformat": 4,
 "nbformat_minor": 2
}
