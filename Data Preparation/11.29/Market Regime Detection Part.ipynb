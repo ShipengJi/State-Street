{
 "cells": [
  {
   "cell_type": "code",
   "execution_count": 29,
   "id": "81e3cc5f",
   "metadata": {},
   "outputs": [],
   "source": [
    "import numpy as np\n",
    "import pandas as pd\n",
    "import matplotlib.pyplot as plt\n",
    "#put indicator index into one dataframe\n",
    "df_indicator = pd.read_excel('Data2.0.xlsx', sheet_name= 'Indicators')\n",
    "df_indicator = df_indicator.set_index('Dates')\n",
    "df_indicator=df_indicator.rename(columns={'SPX Index':'S&P500'})\n",
    "df_indicator\n",
    "#put Monthly Instrument into one dataframe\n",
    "df_instrument_1=pd.read_excel('Data2.0.xlsx', sheet_name= 'Instruments')\n",
    "df_instrument_1 = df_instrument_1.set_index('Dates')\n",
    "df_instrument_1=df_instrument_1.rename(columns={'M1USMMT Index':'MSCI US Momentum index',\n",
    "                              'M1USQU Index':'MSCI US Quality index',\n",
    "                              'M00IMV$T Index':'MSCI US Min Vol index',\n",
    "                              'M1US000V Index':'MSCI US Value index',\n",
    "                              'M1US000G Index':'MSCI US Growth index',\n",
    "                              'RTY Index':'Russell 2000',\n",
    "                              'LBUSTRUU Index':'US IG corporate bonds index',\n",
    "                              'SPGSCI Index':'GSCI commodity index'})\n",
    "df_instrument_1\n",
    "#df_logReturn = df_instrument_1.applymap(lambda x: np.log(float(x))) - df_instrument_1.shift().applymap(lambda x: np.log(float(x)))\n",
    "\n",
    "#clean the US 10Y and 3_month bond data\n",
    "df_Bond = pd.read_excel('Data2.0.xlsx', sheet_name= 'Bonds')\n",
    "df_Bond = df_Bond.set_index('Dates')\n",
    "df_Bond=df_Bond.rename(columns={'SPBDU1BT Index':'US 10-year Treasury Bond Index',\n",
    "                              'SPBDUB3T Index':'US 3-month T-bill Index'})\n",
    "\n",
    "\n",
    "df_instrument= df_instrument_1.merge(df_Bond, left_index=True, right_index=True, how = 'left')\n",
    "\n",
    "\n",
    "df_logReturn = df_instrument.applymap(lambda x: np.log(float(x))) - df_instrument.shift().applymap(lambda x: np.log(float(x)))\n",
    "df_logReturn\n",
    "#df_instrument_yearly log return\n",
    "df_instrument_yearly = df_instrument.resample('Y').ffill()\n",
    "df_instrument_Q = df_instrument.resample('Q').ffill()\n",
    "df_instrument_6M = df_instrument.resample('6M').ffill()\n",
    "\n",
    "#df_instrument_yearly = df_instrument_yearly.merge(df_10YBond, left_index=True, right_index=True, how = 'left')\n",
    "#df_instrument_yearly = df_instrument_yearly.merge(df_3MBond, left_index=True, right_index=True, how = 'left')\n",
    "df_logReturnYearly = df_instrument_yearly.applymap(lambda x: np.log(float(x))) - df_instrument_yearly.shift().applymap(lambda x: np.log(float(x)))\n",
    "df_logReturnQ = df_instrument_Q.applymap(lambda x: np.log(float(x))) - df_instrument_Q.shift().applymap(lambda x: np.log(float(x)))\n",
    "df_logReturn6m = df_instrument_6M.applymap(lambda x: np.log(float(x))) - df_instrument_6M.shift().applymap(lambda x: np.log(float(x)))\n",
    "#df_logReturnYearly\n",
    "\n",
    "\n",
    "############ Regime Finding ##########\n",
    "import matplotlib.pyplot as plt\n",
    "df_used = df_logReturn.merge(df_indicator, left_index = True, right_index = True, how = 'left').dropna()\n",
    "df_used['CPI'] = df_used['CPI'].pct_change()\n",
    "df_used['PMI'] = df_used['PMI'].pct_change()\n",
    "df_used['S&P500'] = df_used[['S&P500']].applymap(lambda x: np.log(float(x))) - df_used[['S&P500']].shift().applymap(lambda x: np.log(float(x)))\n",
    "\n",
    "import warnings\n",
    "warnings.filterwarnings(\"ignore\")\n",
    "df_used = df_used.dropna()"
   ]
  },
  {
   "cell_type": "markdown",
   "id": "77175641",
   "metadata": {},
   "source": [
    "# Market Regime"
   ]
  },
  {
   "cell_type": "markdown",
   "id": "2ae03c8b",
   "metadata": {},
   "source": [
    "<p style=\"font-size: 20px; font-weight: bold;\">Part 1: Generate Nine Indicator for market regime.</b>"
   ]
  },
  {
   "cell_type": "code",
   "execution_count": 30,
   "id": "06d76aac",
   "metadata": {},
   "outputs": [],
   "source": [
    "#import plotly.express as px\n",
    "df_features = df_used[['US 3-month T-bill Index', 'S&P500', 'VIX Index']].ewm(span = 5).mean()\n",
    "df_features.loc[:, 'S&P500_Change'] = df_features['S&P500'].diff(3)\n",
    "df_features.loc[:, 'S&P500_Last'] = df_features['S&P500'].shift()\n",
    "df_features.loc[:, 'T3_Change'] = df_features['US 3-month T-bill Index'].diff(3)\n",
    "df_features.loc[:, 'VIX_Change'] = df_features['VIX Index'].diff(3)\n",
    "df_features.loc[:, 'CPI_PMI'] = df_used['CPI'] + df_used['PMI']\n",
    "df_features.loc[:, 'CPI_PMI_Change'] = df_features['CPI_PMI'].diff(3)\n",
    "df_features = df_features.shift(1).dropna()"
   ]
  },
  {
   "cell_type": "markdown",
   "id": "2e997a42",
   "metadata": {},
   "source": [
    "<p style=\"font-size: 20px; font-weight: bold;\">Part 2: Split data into training, testing data.</b>"
   ]
  },
  {
   "cell_type": "code",
   "execution_count": 31,
   "id": "884dcc93",
   "metadata": {},
   "outputs": [],
   "source": [
    "import pandas as pd\n",
    "from sklearn.model_selection import train_test_split\n",
    "\n",
    "# Assuming df is your DataFrame\n",
    "indices = df_features.index\n",
    "\n",
    "# randomly Split indices into training (80%), and testing (20%)\n",
    "train_indices, test_indices = train_test_split(indices, test_size=0.2, random_state=3)\n",
    "\n",
    "# Use the indices to subset the original DataFrame\n",
    "train_df = df_features.loc[train_indices].sort_index()\n",
    "test_df = df_features.loc[test_indices].sort_index()"
   ]
  },
  {
   "cell_type": "markdown",
   "id": "74dbb4f7",
   "metadata": {},
   "source": [
    " <p style=\"font-size: 20px; font-weight: bold;\">Part 3: Standardized Indicators of market regimes.</b>"
   ]
  },
  {
   "cell_type": "code",
   "execution_count": 32,
   "id": "18f677b6",
   "metadata": {},
   "outputs": [
    {
     "data": {
      "text/html": [
       "<div>\n",
       "<style scoped>\n",
       "    .dataframe tbody tr th:only-of-type {\n",
       "        vertical-align: middle;\n",
       "    }\n",
       "\n",
       "    .dataframe tbody tr th {\n",
       "        vertical-align: top;\n",
       "    }\n",
       "\n",
       "    .dataframe thead th {\n",
       "        text-align: right;\n",
       "    }\n",
       "</style>\n",
       "<table border=\"1\" class=\"dataframe\">\n",
       "  <thead>\n",
       "    <tr style=\"text-align: right;\">\n",
       "      <th></th>\n",
       "      <th>US 3-month T-bill Index</th>\n",
       "      <th>S&amp;P500</th>\n",
       "      <th>VIX Index</th>\n",
       "      <th>S&amp;P500_Change</th>\n",
       "      <th>S&amp;P500_Last</th>\n",
       "      <th>T3_Change</th>\n",
       "      <th>VIX_Change</th>\n",
       "      <th>CPI_PMI</th>\n",
       "      <th>CPI_PMI_Change</th>\n",
       "    </tr>\n",
       "    <tr>\n",
       "      <th>Dates</th>\n",
       "      <th></th>\n",
       "      <th></th>\n",
       "      <th></th>\n",
       "      <th></th>\n",
       "      <th></th>\n",
       "      <th></th>\n",
       "      <th></th>\n",
       "      <th></th>\n",
       "      <th></th>\n",
       "    </tr>\n",
       "  </thead>\n",
       "  <tbody>\n",
       "    <tr>\n",
       "      <th>1995-08-31</th>\n",
       "      <td>1.638586</td>\n",
       "      <td>1.126296</td>\n",
       "      <td>-1.190366</td>\n",
       "      <td>0.053796</td>\n",
       "      <td>0.962208</td>\n",
       "      <td>1.179463</td>\n",
       "      <td>0.218007</td>\n",
       "      <td>-0.175344</td>\n",
       "      <td>-0.168087</td>\n",
       "    </tr>\n",
       "    <tr>\n",
       "      <th>1995-09-29</th>\n",
       "      <td>1.618331</td>\n",
       "      <td>0.559202</td>\n",
       "      <td>-1.251336</td>\n",
       "      <td>-0.650336</td>\n",
       "      <td>1.048025</td>\n",
       "      <td>-0.575219</td>\n",
       "      <td>-0.066859</td>\n",
       "      <td>-0.305657</td>\n",
       "      <td>-0.001322</td>\n",
       "    </tr>\n",
       "    <tr>\n",
       "      <th>1995-10-31</th>\n",
       "      <td>1.499222</td>\n",
       "      <td>0.961245</td>\n",
       "      <td>-1.219877</td>\n",
       "      <td>-0.065653</td>\n",
       "      <td>0.503118</td>\n",
       "      <td>-0.871236</td>\n",
       "      <td>0.119561</td>\n",
       "      <td>0.456081</td>\n",
       "      <td>0.544137</td>\n",
       "    </tr>\n",
       "    <tr>\n",
       "      <th>1995-11-30</th>\n",
       "      <td>1.566183</td>\n",
       "      <td>0.412761</td>\n",
       "      <td>-1.142348</td>\n",
       "      <td>-0.617806</td>\n",
       "      <td>0.889431</td>\n",
       "      <td>-0.359800</td>\n",
       "      <td>0.082877</td>\n",
       "      <td>-0.234450</td>\n",
       "      <td>-0.001193</td>\n",
       "    </tr>\n",
       "    <tr>\n",
       "      <th>1995-12-29</th>\n",
       "      <td>1.487957</td>\n",
       "      <td>0.861283</td>\n",
       "      <td>-1.210956</td>\n",
       "      <td>0.261435</td>\n",
       "      <td>0.362407</td>\n",
       "      <td>-0.669023</td>\n",
       "      <td>0.069317</td>\n",
       "      <td>-0.092076</td>\n",
       "      <td>0.197398</td>\n",
       "    </tr>\n",
       "    <tr>\n",
       "      <th>...</th>\n",
       "      <td>...</td>\n",
       "      <td>...</td>\n",
       "      <td>...</td>\n",
       "      <td>...</td>\n",
       "      <td>...</td>\n",
       "      <td>...</td>\n",
       "      <td>...</td>\n",
       "      <td>...</td>\n",
       "      <td>...</td>\n",
       "    </tr>\n",
       "    <tr>\n",
       "      <th>2023-03-31</th>\n",
       "      <td>0.703925</td>\n",
       "      <td>-0.323745</td>\n",
       "      <td>0.197861</td>\n",
       "      <td>-0.690818</td>\n",
       "      <td>0.304777</td>\n",
       "      <td>2.923286</td>\n",
       "      <td>-0.820462</td>\n",
       "      <td>-0.420607</td>\n",
       "      <td>1.905464</td>\n",
       "    </tr>\n",
       "    <tr>\n",
       "      <th>2023-04-28</th>\n",
       "      <td>0.929730</td>\n",
       "      <td>0.255092</td>\n",
       "      <td>0.043029</td>\n",
       "      <td>0.933383</td>\n",
       "      <td>-0.345283</td>\n",
       "      <td>2.438459</td>\n",
       "      <td>-0.812721</td>\n",
       "      <td>-0.164878</td>\n",
       "      <td>-1.234788</td>\n",
       "    </tr>\n",
       "    <tr>\n",
       "      <th>2023-05-31</th>\n",
       "      <td>0.962775</td>\n",
       "      <td>0.304267</td>\n",
       "      <td>-0.206945</td>\n",
       "      <td>-0.042086</td>\n",
       "      <td>0.210907</td>\n",
       "      <td>2.114000</td>\n",
       "      <td>-0.865548</td>\n",
       "      <td>-1.069458</td>\n",
       "      <td>-0.755768</td>\n",
       "    </tr>\n",
       "    <tr>\n",
       "      <th>2023-06-30</th>\n",
       "      <td>1.071843</td>\n",
       "      <td>0.133195</td>\n",
       "      <td>-0.265037</td>\n",
       "      <td>0.395499</td>\n",
       "      <td>0.258157</td>\n",
       "      <td>1.988897</td>\n",
       "      <td>-0.824044</td>\n",
       "      <td>-0.344395</td>\n",
       "      <td>0.097356</td>\n",
       "    </tr>\n",
       "    <tr>\n",
       "      <th>2023-07-31</th>\n",
       "      <td>1.244170</td>\n",
       "      <td>1.037658</td>\n",
       "      <td>-0.522387</td>\n",
       "      <td>0.677401</td>\n",
       "      <td>0.093779</td>\n",
       "      <td>1.703641</td>\n",
       "      <td>-1.006022</td>\n",
       "      <td>-0.371557</td>\n",
       "      <td>-0.108666</td>\n",
       "    </tr>\n",
       "  </tbody>\n",
       "</table>\n",
       "<p>268 rows × 9 columns</p>\n",
       "</div>"
      ],
      "text/plain": [
       "            US 3-month T-bill Index    S&P500  VIX Index  S&P500_Change  \\\n",
       "Dates                                                                     \n",
       "1995-08-31                 1.638586  1.126296  -1.190366       0.053796   \n",
       "1995-09-29                 1.618331  0.559202  -1.251336      -0.650336   \n",
       "1995-10-31                 1.499222  0.961245  -1.219877      -0.065653   \n",
       "1995-11-30                 1.566183  0.412761  -1.142348      -0.617806   \n",
       "1995-12-29                 1.487957  0.861283  -1.210956       0.261435   \n",
       "...                             ...       ...        ...            ...   \n",
       "2023-03-31                 0.703925 -0.323745   0.197861      -0.690818   \n",
       "2023-04-28                 0.929730  0.255092   0.043029       0.933383   \n",
       "2023-05-31                 0.962775  0.304267  -0.206945      -0.042086   \n",
       "2023-06-30                 1.071843  0.133195  -0.265037       0.395499   \n",
       "2023-07-31                 1.244170  1.037658  -0.522387       0.677401   \n",
       "\n",
       "            S&P500_Last  T3_Change  VIX_Change   CPI_PMI  CPI_PMI_Change  \n",
       "Dates                                                                     \n",
       "1995-08-31     0.962208   1.179463    0.218007 -0.175344       -0.168087  \n",
       "1995-09-29     1.048025  -0.575219   -0.066859 -0.305657       -0.001322  \n",
       "1995-10-31     0.503118  -0.871236    0.119561  0.456081        0.544137  \n",
       "1995-11-30     0.889431  -0.359800    0.082877 -0.234450       -0.001193  \n",
       "1995-12-29     0.362407  -0.669023    0.069317 -0.092076        0.197398  \n",
       "...                 ...        ...         ...       ...             ...  \n",
       "2023-03-31     0.304777   2.923286   -0.820462 -0.420607        1.905464  \n",
       "2023-04-28    -0.345283   2.438459   -0.812721 -0.164878       -1.234788  \n",
       "2023-05-31     0.210907   2.114000   -0.865548 -1.069458       -0.755768  \n",
       "2023-06-30     0.258157   1.988897   -0.824044 -0.344395        0.097356  \n",
       "2023-07-31     0.093779   1.703641   -1.006022 -0.371557       -0.108666  \n",
       "\n",
       "[268 rows x 9 columns]"
      ]
     },
     "execution_count": 32,
     "metadata": {},
     "output_type": "execute_result"
    }
   ],
   "source": [
    "from sklearn.preprocessing import StandardScaler\n",
    "scaler = StandardScaler()\n",
    "scaled_train = scaler.fit_transform(train_df)\n",
    "scaled_train = pd.DataFrame(scaled_train, columns=train_df.columns, index = train_df.index)\n",
    "scaled_train"
   ]
  },
  {
   "cell_type": "code",
   "execution_count": 33,
   "id": "6370fe57",
   "metadata": {},
   "outputs": [],
   "source": [
    "scaled_test = pd.DataFrame(scaler.transform(test_df), columns = test_df.columns, index = test_df.index)"
   ]
  },
  {
   "cell_type": "markdown",
   "id": "5a14bd9c",
   "metadata": {},
   "source": [
    " <p style=\"font-size: 20px; font-weight: bold;\">Part 4: K Means to Cluster 4 Market Regime.</b>"
   ]
  },
  {
   "cell_type": "code",
   "execution_count": 34,
   "id": "2beeff25",
   "metadata": {},
   "outputs": [
    {
     "name": "stdout",
     "output_type": "stream",
     "text": [
      "PC1: 0.3231\n",
      "PC2: 0.1941\n",
      "PC3: 0.1401\n",
      "PC4: 0.1114\n",
      "PC5: 0.0833\n",
      "PC6: 0.0560\n",
      "PC7: 0.0409\n",
      "PC8: 0.0327\n",
      "PC9: 0.0184\n"
     ]
    },
    {
     "data": {
      "image/png": "[encoded data removed]",
      "text/plain": [
       "<Figure size 640x480 with 1 Axes>"
      ]
     },
     "metadata": {},
     "output_type": "display_data"
    }
   ],
   "source": [
    "import pandas as pd\n",
    "from sklearn.decomposition import PCA\n",
    "from sklearn.preprocessing import StandardScaler\n",
    "\n",
    "# Apply PCA\n",
    "pca = PCA()\n",
    "X_pca = pca.fit_transform(scaled_train)\n",
    "\n",
    "# Create a DataFrame from the PCA results\n",
    "pca_columns = [f'PC{i+1}' for i in range(X_pca.shape[1])]\n",
    "X_pca_df = pd.DataFrame(X_pca, columns=pca_columns)\n",
    "\n",
    "# Explained Variance Ratio\n",
    "explained_variance_ratio = pca.explained_variance_ratio_\n",
    "\n",
    "# Print the explained variance ratio for each principal component\n",
    "for i, explained_var in enumerate(explained_variance_ratio):\n",
    "    print(f'PC{i+1}: {explained_var:.4f}')\n",
    "\n",
    "# The resulting DataFrame X_pca_df contains the principal components\n",
    "# You can use this DataFrame for further analysis or visualization\n",
    "plt.plot(range(1, len(explained_variance_ratio)+1), explained_variance_ratio)\n",
    "plt.grid()\n",
    "plt.title('PCA Variance')\n",
    "plt.show()"
   ]
  },
  {
   "cell_type": "code",
   "execution_count": 35,
   "id": "1e6b71ec",
   "metadata": {},
   "outputs": [
    {
     "data": {
      "text/html": [
       "<div>\n",
       "<style scoped>\n",
       "    .dataframe tbody tr th:only-of-type {\n",
       "        vertical-align: middle;\n",
       "    }\n",
       "\n",
       "    .dataframe tbody tr th {\n",
       "        vertical-align: top;\n",
       "    }\n",
       "\n",
       "    .dataframe thead th {\n",
       "        text-align: right;\n",
       "    }\n",
       "</style>\n",
       "<table border=\"1\" class=\"dataframe\">\n",
       "  <thead>\n",
       "    <tr style=\"text-align: right;\">\n",
       "      <th></th>\n",
       "      <th>PC1</th>\n",
       "      <th>PC2</th>\n",
       "      <th>PC3</th>\n",
       "      <th>PC4</th>\n",
       "      <th>PC5</th>\n",
       "      <th>PC6</th>\n",
       "    </tr>\n",
       "    <tr>\n",
       "      <th>Dates</th>\n",
       "      <th></th>\n",
       "      <th></th>\n",
       "      <th></th>\n",
       "      <th></th>\n",
       "      <th></th>\n",
       "      <th></th>\n",
       "    </tr>\n",
       "  </thead>\n",
       "  <tbody>\n",
       "    <tr>\n",
       "      <th>1995-08-31</th>\n",
       "      <td>-1.226555</td>\n",
       "      <td>-1.673566</td>\n",
       "      <td>-1.082703</td>\n",
       "      <td>1.352537</td>\n",
       "      <td>0.433338</td>\n",
       "      <td>-0.237240</td>\n",
       "    </tr>\n",
       "    <tr>\n",
       "      <th>1995-09-29</th>\n",
       "      <td>-0.737626</td>\n",
       "      <td>-1.136632</td>\n",
       "      <td>-0.663983</td>\n",
       "      <td>1.525579</td>\n",
       "      <td>-1.206919</td>\n",
       "      <td>-0.463190</td>\n",
       "    </tr>\n",
       "    <tr>\n",
       "      <th>1995-10-31</th>\n",
       "      <td>-1.086477</td>\n",
       "      <td>-0.070240</td>\n",
       "      <td>-0.817765</td>\n",
       "      <td>1.563637</td>\n",
       "      <td>-0.947983</td>\n",
       "      <td>-0.955416</td>\n",
       "    </tr>\n",
       "    <tr>\n",
       "      <th>1995-11-30</th>\n",
       "      <td>-0.540419</td>\n",
       "      <td>-1.071810</td>\n",
       "      <td>-0.777391</td>\n",
       "      <td>1.425641</td>\n",
       "      <td>-0.972433</td>\n",
       "      <td>-0.411298</td>\n",
       "    </tr>\n",
       "    <tr>\n",
       "      <th>1995-12-29</th>\n",
       "      <td>-0.904564</td>\n",
       "      <td>-0.460177</td>\n",
       "      <td>-0.365894</td>\n",
       "      <td>1.564953</td>\n",
       "      <td>-0.535154</td>\n",
       "      <td>-1.086736</td>\n",
       "    </tr>\n",
       "    <tr>\n",
       "      <th>...</th>\n",
       "      <td>...</td>\n",
       "      <td>...</td>\n",
       "      <td>...</td>\n",
       "      <td>...</td>\n",
       "      <td>...</td>\n",
       "      <td>...</td>\n",
       "    </tr>\n",
       "    <tr>\n",
       "      <th>2023-03-31</th>\n",
       "      <td>-0.528292</td>\n",
       "      <td>-0.573714</td>\n",
       "      <td>-2.063380</td>\n",
       "      <td>-0.188299</td>\n",
       "      <td>1.881387</td>\n",
       "      <td>1.442143</td>\n",
       "    </tr>\n",
       "    <tr>\n",
       "      <th>2023-04-28</th>\n",
       "      <td>-0.565716</td>\n",
       "      <td>-1.561877</td>\n",
       "      <td>-0.005786</td>\n",
       "      <td>0.361331</td>\n",
       "      <td>2.410580</td>\n",
       "      <td>0.620129</td>\n",
       "    </tr>\n",
       "    <tr>\n",
       "      <th>2023-05-31</th>\n",
       "      <td>-0.417828</td>\n",
       "      <td>-2.090534</td>\n",
       "      <td>-0.164453</td>\n",
       "      <td>0.388005</td>\n",
       "      <td>1.543917</td>\n",
       "      <td>0.720029</td>\n",
       "    </tr>\n",
       "    <tr>\n",
       "      <th>2023-06-30</th>\n",
       "      <td>-0.836949</td>\n",
       "      <td>-1.153971</td>\n",
       "      <td>-0.681199</td>\n",
       "      <td>0.523373</td>\n",
       "      <td>1.632103</td>\n",
       "      <td>0.573013</td>\n",
       "    </tr>\n",
       "    <tr>\n",
       "      <th>2023-07-31</th>\n",
       "      <td>-1.403991</td>\n",
       "      <td>-1.260807</td>\n",
       "      <td>-0.324015</td>\n",
       "      <td>0.847402</td>\n",
       "      <td>1.620813</td>\n",
       "      <td>0.126644</td>\n",
       "    </tr>\n",
       "  </tbody>\n",
       "</table>\n",
       "<p>268 rows × 6 columns</p>\n",
       "</div>"
      ],
      "text/plain": [
       "                 PC1       PC2       PC3       PC4       PC5       PC6\n",
       "Dates                                                                 \n",
       "1995-08-31 -1.226555 -1.673566 -1.082703  1.352537  0.433338 -0.237240\n",
       "1995-09-29 -0.737626 -1.136632 -0.663983  1.525579 -1.206919 -0.463190\n",
       "1995-10-31 -1.086477 -0.070240 -0.817765  1.563637 -0.947983 -0.955416\n",
       "1995-11-30 -0.540419 -1.071810 -0.777391  1.425641 -0.972433 -0.411298\n",
       "1995-12-29 -0.904564 -0.460177 -0.365894  1.564953 -0.535154 -1.086736\n",
       "...              ...       ...       ...       ...       ...       ...\n",
       "2023-03-31 -0.528292 -0.573714 -2.063380 -0.188299  1.881387  1.442143\n",
       "2023-04-28 -0.565716 -1.561877 -0.005786  0.361331  2.410580  0.620129\n",
       "2023-05-31 -0.417828 -2.090534 -0.164453  0.388005  1.543917  0.720029\n",
       "2023-06-30 -0.836949 -1.153971 -0.681199  0.523373  1.632103  0.573013\n",
       "2023-07-31 -1.403991 -1.260807 -0.324015  0.847402  1.620813  0.126644\n",
       "\n",
       "[268 rows x 6 columns]"
      ]
     },
     "execution_count": 35,
     "metadata": {},
     "output_type": "execute_result"
    }
   ],
   "source": [
    "scaled_pc = pd.DataFrame(pca.transform(scaled_train), columns = pca_columns, index = scaled_train.index).iloc[:, :6]\n",
    "scaled_pc"
   ]
  },
  {
   "cell_type": "code",
   "execution_count": 36,
   "id": "1aabae02",
   "metadata": {},
   "outputs": [
    {
     "name": "stderr",
     "output_type": "stream",
     "text": [
      "No artists with labels found to put in legend.  Note that artists whose label start with an underscore are ignored when legend() is called with no argument.\n"
     ]
    },
    {
     "data": {
      "image/png": "[encoded data removed]",
      "text/plain": [
       "<Figure size 640x480 with 1 Axes>"
      ]
     },
     "metadata": {},
     "output_type": "display_data"
    }
   ],
   "source": [
    "from sklearn.cluster import KMeans\n",
    "import matplotlib.pyplot as plt\n",
    "\n",
    "# Number of clusters\n",
    "k = 4\n",
    "\n",
    "# Fit K-Means model\n",
    "kmeans = KMeans(n_clusters=k, random_state=1)\n",
    "kmeans.fit(scaled_pc)\n",
    "\n",
    "# Add cluster labels to the DataFrame\n",
    "train_df['Cluster'] = kmeans.labels_\n",
    "\n",
    "# Visualize the clusters (for 2D data)\n",
    "plt.scatter(train_df['CPI_PMI'], train_df['US 3-month T-bill Index'], c=train_df['Cluster'], cmap='viridis')\n",
    "#plt.scatter(kmeans.cluster_centers_[:, 0], kmeans.cluster_centers_[:, 1], s=300, c='red', label='Centroids')\n",
    "plt.xlabel('CPI_PMI')\n",
    "plt.ylabel('US 3-month T-bill Index')\n",
    "plt.title('K-Means Clustering (k=4)')\n",
    "plt.legend()\n",
    "plt.show()"
   ]
  },
  {
   "cell_type": "code",
   "execution_count": 37,
   "id": "b6d03d80",
   "metadata": {},
   "outputs": [],
   "source": [
    "df_instrument['Cluster'] = train_df['Cluster']"
   ]
  },
  {
   "cell_type": "markdown",
   "id": "6eed1cb2",
   "metadata": {},
   "source": [
    "<p style=\"font-size: 20px; font-weight: bold;\">Part 5: Different Market Regime on SP500 Price Trend Chart.</b>"
   ]
  },
  {
   "cell_type": "code",
   "execution_count": 38,
   "id": "1c68a774",
   "metadata": {},
   "outputs": [
    {
     "data": {
      "application/vnd.plotly.v1+json": {
       "config": {
        "plotlyServerURL": "https://plot.ly"
       },
       "data": [
        {
         "hovertemplate": "x=%{x}<br>y=%{y}<br>Cluster=%{marker.color}<extra></extra>",
         "legendgroup": "",
         "marker": {
          "color": [
           3,
           3,
           3,
           3,
           3,
           3,
           3,
           3,
           3,
           3,
           3,
           3,
           3,
           3,
           3,
           3,
           3,
           3,
           3,
           3,
           3,
           3,
           3,
           3,
           3,
           3,
           3,
           3,
           3,
           3,
           3,
           3,
           1,
           1,
           1,
           2,
           2,
           2,
           3,
           3,
           3,
           3,
           3,
           3,
           3,
           3,
           3,
           3,
           3,
           3,
           3,
           3,
           3,
           3,
           1,
           1,
           1,
           1,
           1,
           2,
           2,
           2,
           1,
           2,
           2,
           0,
           1,
           1,
           1,
           2,
           2,
           2,
           1,
           1,
           2,
           2,
           2,
           2,
           0,
           0,
           0,
           0,
           0,
           0,
           0,
           0,
           0,
           0,
           0,
           0,
           0,
           0,
           0,
           0,
           0,
           0,
           0,
           3,
           0,
           3,
           3,
           3,
           3,
           3,
           3,
           3,
           3,
           3,
           3,
           3,
           3,
           3,
           3,
           3,
           3,
           3,
           3,
           3,
           2,
           3,
           3,
           1,
           1,
           2,
           2,
           1,
           0,
           1,
           1,
           1,
           1,
           1,
           1,
           2,
           2,
           2,
           2,
           2,
           2,
           2,
           2,
           0,
           0,
           0,
           0,
           1,
           1,
           0,
           2,
           2,
           2,
           2,
           2,
           0,
           0,
           0,
           1,
           0,
           2,
           2,
           2,
           0,
           0,
           0,
           2,
           0,
           0,
           0,
           0,
           2,
           0,
           0,
           0,
           0,
           0,
           0,
           0,
           0,
           0,
           0,
           0,
           0,
           0,
           0,
           0,
           0,
           0,
           0,
           0,
           0,
           0,
           0,
           0,
           0,
           0,
           1,
           0,
           0,
           0,
           0,
           0,
           0,
           0,
           0,
           0,
           0,
           0,
           0,
           0,
           0,
           0,
           0,
           0,
           0,
           0,
           0,
           0,
           0,
           0,
           0,
           0,
           0,
           0,
           0,
           0,
           1,
           0,
           2,
           0,
           0,
           0,
           0,
           0,
           0,
           0,
           1,
           1,
           2,
           2,
           2,
           2,
           0,
           2,
           2,
           2,
           2,
           2,
           0,
           0,
           0,
           0,
           0,
           0,
           2,
           0,
           0,
           0,
           1,
           1,
           0,
           1,
           1,
           0,
           3,
           3,
           3,
           3,
           3
          ],
          "coloraxis": "coloraxis",
          "symbol": "circle"
         },
         "mode": "markers",
         "name": "",
         "orientation": "v",
         "showlegend": false,
         "type": "scatter",
         "x": [
          "1995-08-31T00:00:00",
          "1995-09-29T00:00:00",
          "1995-10-31T00:00:00",
          "1995-11-30T00:00:00",
          "1995-12-29T00:00:00",
          "1996-01-31T00:00:00",
          "1996-02-29T00:00:00",
          "1996-03-29T00:00:00",
          "1996-04-30T00:00:00",
          "1996-05-31T00:00:00",
          "1996-07-31T00:00:00",
          "1996-08-30T00:00:00",
          "1996-09-30T00:00:00",
          "1996-10-31T00:00:00",
          "1997-01-31T00:00:00",
          "1997-02-28T00:00:00",
          "1997-03-31T00:00:00",
          "1997-04-30T00:00:00",
          "1997-05-30T00:00:00",
          "1997-06-30T00:00:00",
          "1997-07-31T00:00:00",
          "1997-09-30T00:00:00",
          "1997-10-31T00:00:00",
          "1997-11-28T00:00:00",
          "1997-12-31T00:00:00",
          "1998-01-30T00:00:00",
          "1998-02-27T00:00:00",
          "1998-04-30T00:00:00",
          "1998-05-29T00:00:00",
          "1998-06-30T00:00:00",
          "1998-07-31T00:00:00",
          "1998-08-31T00:00:00",
          "1998-09-30T00:00:00",
          "1998-10-30T00:00:00",
          "1998-11-30T00:00:00",
          "1998-12-31T00:00:00",
          "1999-01-29T00:00:00",
          "1999-02-26T00:00:00",
          "1999-03-31T00:00:00",
          "1999-04-30T00:00:00",
          "1999-05-31T00:00:00",
          "1999-06-30T00:00:00",
          "1999-07-30T00:00:00",
          "1999-08-31T00:00:00",
          "1999-09-30T00:00:00",
          "1999-11-30T00:00:00",
          "1999-12-31T00:00:00",
          "2000-01-31T00:00:00",
          "2000-02-29T00:00:00",
          "2000-05-31T00:00:00",
          "2000-06-30T00:00:00",
          "2000-08-31T00:00:00",
          "2000-10-31T00:00:00",
          "2000-11-30T00:00:00",
          "2000-12-29T00:00:00",
          "2001-01-31T00:00:00",
          "2001-03-30T00:00:00",
          "2001-04-30T00:00:00",
          "2001-05-31T00:00:00",
          "2001-06-29T00:00:00",
          "2001-07-31T00:00:00",
          "2001-08-31T00:00:00",
          "2001-12-31T00:00:00",
          "2002-01-31T00:00:00",
          "2002-02-28T00:00:00",
          "2002-05-31T00:00:00",
          "2002-09-30T00:00:00",
          "2002-10-31T00:00:00",
          "2002-11-29T00:00:00",
          "2002-12-31T00:00:00",
          "2003-01-31T00:00:00",
          "2003-02-28T00:00:00",
          "2003-03-31T00:00:00",
          "2003-04-30T00:00:00",
          "2003-05-30T00:00:00",
          "2003-06-30T00:00:00",
          "2003-07-31T00:00:00",
          "2003-08-29T00:00:00",
          "2003-09-30T00:00:00",
          "2003-10-31T00:00:00",
          "2003-11-28T00:00:00",
          "2003-12-31T00:00:00",
          "2004-03-31T00:00:00",
          "2004-04-30T00:00:00",
          "2004-06-30T00:00:00",
          "2004-07-30T00:00:00",
          "2004-08-31T00:00:00",
          "2004-09-30T00:00:00",
          "2004-10-29T00:00:00",
          "2004-11-30T00:00:00",
          "2004-12-31T00:00:00",
          "2005-01-31T00:00:00",
          "2005-02-28T00:00:00",
          "2005-04-29T00:00:00",
          "2005-05-31T00:00:00",
          "2005-07-29T00:00:00",
          "2005-08-31T00:00:00",
          "2005-10-31T00:00:00",
          "2005-12-30T00:00:00",
          "2006-01-31T00:00:00",
          "2006-03-31T00:00:00",
          "2006-04-28T00:00:00",
          "2006-05-31T00:00:00",
          "2006-06-30T00:00:00",
          "2006-07-31T00:00:00",
          "2006-08-31T00:00:00",
          "2006-09-29T00:00:00",
          "2006-11-30T00:00:00",
          "2006-12-29T00:00:00",
          "2007-01-31T00:00:00",
          "2007-02-28T00:00:00",
          "2007-03-30T00:00:00",
          "2007-05-31T00:00:00",
          "2007-06-29T00:00:00",
          "2007-07-31T00:00:00",
          "2007-08-31T00:00:00",
          "2007-09-28T00:00:00",
          "2007-10-31T00:00:00",
          "2007-11-30T00:00:00",
          "2007-12-31T00:00:00",
          "2008-01-31T00:00:00",
          "2008-02-29T00:00:00",
          "2008-04-30T00:00:00",
          "2008-06-30T00:00:00",
          "2008-07-31T00:00:00",
          "2008-08-29T00:00:00",
          "2008-09-30T00:00:00",
          "2008-10-31T00:00:00",
          "2008-11-28T00:00:00",
          "2008-12-31T00:00:00",
          "2009-01-30T00:00:00",
          "2009-03-31T00:00:00",
          "2009-04-30T00:00:00",
          "2009-05-29T00:00:00",
          "2009-06-30T00:00:00",
          "2009-07-31T00:00:00",
          "2009-09-30T00:00:00",
          "2009-10-30T00:00:00",
          "2009-11-30T00:00:00",
          "2009-12-31T00:00:00",
          "2010-01-29T00:00:00",
          "2010-02-26T00:00:00",
          "2010-03-31T00:00:00",
          "2010-04-30T00:00:00",
          "2010-06-30T00:00:00",
          "2010-07-30T00:00:00",
          "2010-08-31T00:00:00",
          "2010-09-30T00:00:00",
          "2010-10-29T00:00:00",
          "2010-11-30T00:00:00",
          "2010-12-31T00:00:00",
          "2011-01-31T00:00:00",
          "2011-02-28T00:00:00",
          "2011-06-30T00:00:00",
          "2011-07-29T00:00:00",
          "2011-08-31T00:00:00",
          "2011-09-30T00:00:00",
          "2011-12-30T00:00:00",
          "2012-01-31T00:00:00",
          "2012-02-29T00:00:00",
          "2012-04-30T00:00:00",
          "2012-06-29T00:00:00",
          "2012-07-31T00:00:00",
          "2012-08-31T00:00:00",
          "2012-09-28T00:00:00",
          "2012-10-31T00:00:00",
          "2012-11-30T00:00:00",
          "2012-12-31T00:00:00",
          "2013-01-31T00:00:00",
          "2013-02-28T00:00:00",
          "2013-04-30T00:00:00",
          "2013-05-31T00:00:00",
          "2013-06-28T00:00:00",
          "2013-07-31T00:00:00",
          "2013-08-30T00:00:00",
          "2013-09-30T00:00:00",
          "2013-10-31T00:00:00",
          "2013-11-29T00:00:00",
          "2013-12-31T00:00:00",
          "2014-01-31T00:00:00",
          "2014-02-28T00:00:00",
          "2014-03-31T00:00:00",
          "2014-04-30T00:00:00",
          "2014-05-30T00:00:00",
          "2014-06-30T00:00:00",
          "2014-07-31T00:00:00",
          "2014-08-29T00:00:00",
          "2014-11-28T00:00:00",
          "2014-12-31T00:00:00",
          "2015-03-31T00:00:00",
          "2015-04-30T00:00:00",
          "2015-05-29T00:00:00",
          "2015-06-30T00:00:00",
          "2015-07-31T00:00:00",
          "2015-08-31T00:00:00",
          "2015-10-30T00:00:00",
          "2015-11-30T00:00:00",
          "2015-12-31T00:00:00",
          "2016-01-29T00:00:00",
          "2016-02-29T00:00:00",
          "2016-03-31T00:00:00",
          "2016-04-29T00:00:00",
          "2016-05-31T00:00:00",
          "2016-08-31T00:00:00",
          "2016-09-30T00:00:00",
          "2016-11-30T00:00:00",
          "2016-12-30T00:00:00",
          "2017-02-28T00:00:00",
          "2017-03-31T00:00:00",
          "2017-04-28T00:00:00",
          "2017-05-31T00:00:00",
          "2017-06-30T00:00:00",
          "2017-07-31T00:00:00",
          "2017-08-31T00:00:00",
          "2017-09-29T00:00:00",
          "2017-10-31T00:00:00",
          "2017-11-30T00:00:00",
          "2018-01-31T00:00:00",
          "2018-03-30T00:00:00",
          "2018-06-29T00:00:00",
          "2018-07-31T00:00:00",
          "2018-08-31T00:00:00",
          "2018-09-28T00:00:00",
          "2018-11-30T00:00:00",
          "2018-12-31T00:00:00",
          "2019-01-31T00:00:00",
          "2019-02-28T00:00:00",
          "2019-04-30T00:00:00",
          "2019-06-28T00:00:00",
          "2019-08-30T00:00:00",
          "2019-09-30T00:00:00",
          "2019-11-29T00:00:00",
          "2019-12-31T00:00:00",
          "2020-01-31T00:00:00",
          "2020-02-28T00:00:00",
          "2020-03-31T00:00:00",
          "2020-05-29T00:00:00",
          "2020-07-31T00:00:00",
          "2020-08-31T00:00:00",
          "2020-09-30T00:00:00",
          "2020-10-30T00:00:00",
          "2020-11-30T00:00:00",
          "2021-02-26T00:00:00",
          "2021-03-31T00:00:00",
          "2021-04-30T00:00:00",
          "2021-05-31T00:00:00",
          "2021-06-30T00:00:00",
          "2021-07-30T00:00:00",
          "2021-08-31T00:00:00",
          "2021-09-30T00:00:00",
          "2021-10-29T00:00:00",
          "2021-11-30T00:00:00",
          "2021-12-31T00:00:00",
          "2022-01-31T00:00:00",
          "2022-02-28T00:00:00",
          "2022-03-31T00:00:00",
          "2022-04-29T00:00:00",
          "2022-05-31T00:00:00",
          "2022-07-29T00:00:00",
          "2022-09-30T00:00:00",
          "2022-10-31T00:00:00",
          "2022-11-30T00:00:00",
          "2022-12-30T00:00:00",
          "2023-03-31T00:00:00",
          "2023-04-28T00:00:00",
          "2023-05-31T00:00:00",
          "2023-06-30T00:00:00",
          "2023-07-31T00:00:00"
         ],
         "xaxis": "x",
         "y": [
          561.88,
          584.41,
          581.5,
          605.37,
          615.93,
          636.02,
          640.43,
          645.5,
          654.17,
          669.12,
          639.95,
          651.99,
          687.31,
          705.27,
          786.16,
          790.82,
          757.12,
          801.34,
          848.28,
          885.14,
          954.29,
          947.28,
          914.62,
          955.4,
          970.43,
          980.28,
          1049.34,
          1111.75,
          1090.82,
          1133.84,
          1120.67,
          957.28,
          1017.01,
          1098.67,
          1163.63,
          1229.23,
          1279.64,
          1238.33,
          1286.37,
          1335.18,
          1301.84,
          1372.71,
          1328.72,
          1320.41,
          1282.71,
          1388.91,
          1469.25,
          1394.46,
          1366.42,
          1420.6,
          1454.6,
          1517.68,
          1429.4,
          1314.95,
          1320.28,
          1366.01,
          1160.33,
          1249.46,
          1255.82,
          1224.42,
          1211.23,
          1133.58,
          1148.08,
          1130.21,
          1106.73,
          1067.14,
          815.28,
          885.76,
          936.31,
          879.82,
          855.7,
          841.15,
          848.18,
          916.92,
          963.59,
          974.5,
          990.31,
          1008.01,
          995.97,
          1050.71,
          1058.2,
          1111.92,
          1126.21,
          1107.31,
          1140.84,
          1101.72,
          1104.24,
          1114.58,
          1130.2,
          1173.82,
          1211.92,
          1181.27,
          1203.6,
          1156.85,
          1191.5,
          1234.18,
          1220.33,
          1207.01,
          1248.29,
          1280.09,
          1294.83,
          1310.61,
          1270.09,
          1270.2,
          1276.66,
          1303.82,
          1335.85,
          1400.63,
          1418.3,
          1438.24,
          1406.82,
          1420.86,
          1530.62,
          1503.35,
          1455.28,
          1473.99,
          1526.75,
          1549.38,
          1481.14,
          1468.36,
          1378.55,
          1330.63,
          1385.59,
          1280,
          1267.38,
          1282.83,
          1166.36,
          968.75,
          896.24,
          903.25,
          825.88,
          797.87,
          872.81,
          919.14,
          919.32,
          987.48,
          1057.08,
          1036.2,
          1095.63,
          1115.1,
          1073.87,
          1104.49,
          1169.43,
          1186.69,
          1030.71,
          1101.6,
          1049.33,
          1141.2,
          1183.26,
          1180.55,
          1257.64,
          1286.12,
          1327.22,
          1320.64,
          1292.28,
          1218.89,
          1131.42,
          1257.61,
          1312.41,
          1365.68,
          1397.91,
          1362.16,
          1379.32,
          1406.58,
          1440.67,
          1412.16,
          1416.18,
          1426.19,
          1498.11,
          1514.68,
          1597.57,
          1630.74,
          1606.28,
          1685.73,
          1632.97,
          1681.55,
          1756.54,
          1805.81,
          1848.36,
          1782.59,
          1859.45,
          1872.34,
          1883.95,
          1923.57,
          1960.23,
          1930.67,
          2003.37,
          2067.56,
          2058.9,
          2067.89,
          2085.51,
          2107.39,
          2063.11,
          2103.84,
          1972.18,
          2079.36,
          2080.41,
          2043.94,
          1940.24,
          1932.23,
          2059.74,
          2065.3,
          2096.96,
          2170.95,
          2168.27,
          2198.81,
          2238.83,
          2363.64,
          2362.72,
          2384.2,
          2411.8,
          2423.41,
          2470.3,
          2471.65,
          2519.36,
          2575.26,
          2647.58,
          2823.81,
          2640.87,
          2718.37,
          2816.29,
          2901.52,
          2913.98,
          2760.17,
          2506.85,
          2704.1,
          2784.49,
          2945.83,
          2941.76,
          2926.46,
          2976.74,
          3140.98,
          3230.78,
          3225.52,
          2954.22,
          2584.59,
          3044.31,
          3271.12,
          3500.31,
          3363,
          3269.96,
          3621.63,
          3811.15,
          3972.89,
          4181.17,
          4204.11,
          4297.5,
          4395.26,
          4522.68,
          4307.54,
          4605.38,
          4567,
          4766.18,
          4515.55,
          4373.94,
          4530.41,
          4131.93,
          4132.15,
          4130.29,
          3585.62,
          3871.98,
          4080.11,
          3839.5,
          4109.31,
          4169.48,
          4179.83,
          4450.38,
          4588.96
         ],
         "yaxis": "y"
        }
       ],
       "layout": {
        "coloraxis": {
         "colorbar": {
          "title": {
           "text": "Cluster"
          }
         },
         "colorscale": [
          [
           0,
           "#0d0887"
          ],
          [
           0.1111111111111111,
           "#46039f"
          ],
          [
           0.2222222222222222,
           "#7201a8"
          ],
          [
           0.3333333333333333,
           "#9c179e"
          ],
          [
           0.4444444444444444,
           "#bd3786"
          ],
          [
           0.5555555555555556,
           "#d8576b"
          ],
          [
           0.6666666666666666,
           "#ed7953"
          ],
          [
           0.7777777777777778,
           "#fb9f3a"
          ],
          [
           0.8888888888888888,
           "#fdca26"
          ],
          [
           1,
           "#f0f921"
          ]
         ]
        },
        "legend": {
         "tracegroupgap": 0
        },
        "margin": {
         "t": 60
        },
        "template": {
         "data": {
          "bar": [
           {
            "error_x": {
             "color": "#2a3f5f"
            },
            "error_y": {
             "color": "#2a3f5f"
            },
            "marker": {
             "line": {
              "color": "#E5ECF6",
              "width": 0.5
             },
             "pattern": {
              "fillmode": "overlay",
              "size": 10,
              "solidity": 0.2
             }
            },
            "type": "bar"
           }
          ],
          "barpolar": [
           {
            "marker": {
             "line": {
              "color": "#E5ECF6",
              "width": 0.5
             },
             "pattern": {
              "fillmode": "overlay",
              "size": 10,
              "solidity": 0.2
             }
            },
            "type": "barpolar"
           }
          ],
          "carpet": [
           {
            "aaxis": {
             "endlinecolor": "#2a3f5f",
             "gridcolor": "white",
             "linecolor": "white",
             "minorgridcolor": "white",
             "startlinecolor": "#2a3f5f"
            },
            "baxis": {
             "endlinecolor": "#2a3f5f",
             "gridcolor": "white",
             "linecolor": "white",
             "minorgridcolor": "white",
             "startlinecolor": "#2a3f5f"
            },
            "type": "carpet"
           }
          ],
          "choropleth": [
           {
            "colorbar": {
             "outlinewidth": 0,
             "ticks": ""
            },
            "type": "choropleth"
           }
          ],
          "contour": [
           {
            "colorbar": {
             "outlinewidth": 0,
             "ticks": ""
            },
            "colorscale": [
             [
              0,
              "#0d0887"
             ],
             [
              0.1111111111111111,
              "#46039f"
             ],
             [
              0.2222222222222222,
              "#7201a8"
             ],
             [
              0.3333333333333333,
              "#9c179e"
             ],
             [
              0.4444444444444444,
              "#bd3786"
             ],
             [
              0.5555555555555556,
              "#d8576b"
             ],
             [
              0.6666666666666666,
              "#ed7953"
             ],
             [
              0.7777777777777778,
              "#fb9f3a"
             ],
             [
              0.8888888888888888,
              "#fdca26"
             ],
             [
              1,
              "#f0f921"
             ]
            ],
            "type": "contour"
           }
          ],
          "contourcarpet": [
           {
            "colorbar": {
             "outlinewidth": 0,
             "ticks": ""
            },
            "type": "contourcarpet"
           }
          ],
          "heatmap": [
           {
            "colorbar": {
             "outlinewidth": 0,
             "ticks": ""
            },
            "colorscale": [
             [
              0,
              "#0d0887"
             ],
             [
              0.1111111111111111,
              "#46039f"
             ],
             [
              0.2222222222222222,
              "#7201a8"
             ],
             [
              0.3333333333333333,
              "#9c179e"
             ],
             [
              0.4444444444444444,
              "#bd3786"
             ],
             [
              0.5555555555555556,
              "#d8576b"
             ],
             [
              0.6666666666666666,
              "#ed7953"
             ],
             [
              0.7777777777777778,
              "#fb9f3a"
             ],
             [
              0.8888888888888888,
              "#fdca26"
             ],
             [
              1,
              "#f0f921"
             ]
            ],
            "type": "heatmap"
           }
          ],
          "heatmapgl": [
           {
            "colorbar": {
             "outlinewidth": 0,
             "ticks": ""
            },
            "colorscale": [
             [
              0,
              "#0d0887"
             ],
             [
              0.1111111111111111,
              "#46039f"
             ],
             [
              0.2222222222222222,
              "#7201a8"
             ],
             [
              0.3333333333333333,
              "#9c179e"
             ],
             [
              0.4444444444444444,
              "#bd3786"
             ],
             [
              0.5555555555555556,
              "#d8576b"
             ],
             [
              0.6666666666666666,
              "#ed7953"
             ],
             [
              0.7777777777777778,
              "#fb9f3a"
             ],
             [
              0.8888888888888888,
              "#fdca26"
             ],
             [
              1,
              "#f0f921"
             ]
            ],
            "type": "heatmapgl"
           }
          ],
          "histogram": [
           {
            "marker": {
             "pattern": {
              "fillmode": "overlay",
              "size": 10,
              "solidity": 0.2
             }
            },
            "type": "histogram"
           }
          ],
          "histogram2d": [
           {
            "colorbar": {
             "outlinewidth": 0,
             "ticks": ""
            },
            "colorscale": [
             [
              0,
              "#0d0887"
             ],
             [
              0.1111111111111111,
              "#46039f"
             ],
             [
              0.2222222222222222,
              "#7201a8"
             ],
             [
              0.3333333333333333,
              "#9c179e"
             ],
             [
              0.4444444444444444,
              "#bd3786"
             ],
             [
              0.5555555555555556,
              "#d8576b"
             ],
             [
              0.6666666666666666,
              "#ed7953"
             ],
             [
              0.7777777777777778,
              "#fb9f3a"
             ],
             [
              0.8888888888888888,
              "#fdca26"
             ],
             [
              1,
              "#f0f921"
             ]
            ],
            "type": "histogram2d"
           }
          ],
          "histogram2dcontour": [
           {
            "colorbar": {
             "outlinewidth": 0,
             "ticks": ""
            },
            "colorscale": [
             [
              0,
              "#0d0887"
             ],
             [
              0.1111111111111111,
              "#46039f"
             ],
             [
              0.2222222222222222,
              "#7201a8"
             ],
             [
              0.3333333333333333,
              "#9c179e"
             ],
             [
              0.4444444444444444,
              "#bd3786"
             ],
             [
              0.5555555555555556,
              "#d8576b"
             ],
             [
              0.6666666666666666,
              "#ed7953"
             ],
             [
              0.7777777777777778,
              "#fb9f3a"
             ],
             [
              0.8888888888888888,
              "#fdca26"
             ],
             [
              1,
              "#f0f921"
             ]
            ],
            "type": "histogram2dcontour"
           }
          ],
          "mesh3d": [
           {
            "colorbar": {
             "outlinewidth": 0,
             "ticks": ""
            },
            "type": "mesh3d"
           }
          ],
          "parcoords": [
           {
            "line": {
             "colorbar": {
              "outlinewidth": 0,
              "ticks": ""
             }
            },
            "type": "parcoords"
           }
          ],
          "pie": [
           {
            "automargin": true,
            "type": "pie"
           }
          ],
          "scatter": [
           {
            "fillpattern": {
             "fillmode": "overlay",
             "size": 10,
             "solidity": 0.2
            },
            "type": "scatter"
           }
          ],
          "scatter3d": [
           {
            "line": {
             "colorbar": {
              "outlinewidth": 0,
              "ticks": ""
             }
            },
            "marker": {
             "colorbar": {
              "outlinewidth": 0,
              "ticks": ""
             }
            },
            "type": "scatter3d"
           }
          ],
          "scattercarpet": [
           {
            "marker": {
             "colorbar": {
              "outlinewidth": 0,
              "ticks": ""
             }
            },
            "type": "scattercarpet"
           }
          ],
          "scattergeo": [
           {
            "marker": {
             "colorbar": {
              "outlinewidth": 0,
              "ticks": ""
             }
            },
            "type": "scattergeo"
           }
          ],
          "scattergl": [
           {
            "marker": {
             "colorbar": {
              "outlinewidth": 0,
              "ticks": ""
             }
            },
            "type": "scattergl"
           }
          ],
          "scattermapbox": [
           {
            "marker": {
             "colorbar": {
              "outlinewidth": 0,
              "ticks": ""
             }
            },
            "type": "scattermapbox"
           }
          ],
          "scatterpolar": [
           {
            "marker": {
             "colorbar": {
              "outlinewidth": 0,
              "ticks": ""
             }
            },
            "type": "scatterpolar"
           }
          ],
          "scatterpolargl": [
           {
            "marker": {
             "colorbar": {
              "outlinewidth": 0,
              "ticks": ""
             }
            },
            "type": "scatterpolargl"
           }
          ],
          "scatterternary": [
           {
            "marker": {
             "colorbar": {
              "outlinewidth": 0,
              "ticks": ""
             }
            },
            "type": "scatterternary"
           }
          ],
          "surface": [
           {
            "colorbar": {
             "outlinewidth": 0,
             "ticks": ""
            },
            "colorscale": [
             [
              0,
              "#0d0887"
             ],
             [
              0.1111111111111111,
              "#46039f"
             ],
             [
              0.2222222222222222,
              "#7201a8"
             ],
             [
              0.3333333333333333,
              "#9c179e"
             ],
             [
              0.4444444444444444,
              "#bd3786"
             ],
             [
              0.5555555555555556,
              "#d8576b"
             ],
             [
              0.6666666666666666,
              "#ed7953"
             ],
             [
              0.7777777777777778,
              "#fb9f3a"
             ],
             [
              0.8888888888888888,
              "#fdca26"
             ],
             [
              1,
              "#f0f921"
             ]
            ],
            "type": "surface"
           }
          ],
          "table": [
           {
            "cells": {
             "fill": {
              "color": "#EBF0F8"
             },
             "line": {
              "color": "white"
             }
            },
            "header": {
             "fill": {
              "color": "#C8D4E3"
             },
             "line": {
              "color": "white"
             }
            },
            "type": "table"
           }
          ]
         },
         "layout": {
          "annotationdefaults": {
           "arrowcolor": "#2a3f5f",
           "arrowhead": 0,
           "arrowwidth": 1
          },
          "autotypenumbers": "strict",
          "coloraxis": {
           "colorbar": {
            "outlinewidth": 0,
            "ticks": ""
           }
          },
          "colorscale": {
           "diverging": [
            [
             0,
             "#8e0152"
            ],
            [
             0.1,
             "#c51b7d"
            ],
            [
             0.2,
             "#de77ae"
            ],
            [
             0.3,
             "#f1b6da"
            ],
            [
             0.4,
             "#fde0ef"
            ],
            [
             0.5,
             "#f7f7f7"
            ],
            [
             0.6,
             "#e6f5d0"
            ],
            [
             0.7,
             "#b8e186"
            ],
            [
             0.8,
             "#7fbc41"
            ],
            [
             0.9,
             "#4d9221"
            ],
            [
             1,
             "#276419"
            ]
           ],
           "sequential": [
            [
             0,
             "#0d0887"
            ],
            [
             0.1111111111111111,
             "#46039f"
            ],
            [
             0.2222222222222222,
             "#7201a8"
            ],
            [
             0.3333333333333333,
             "#9c179e"
            ],
            [
             0.4444444444444444,
             "#bd3786"
            ],
            [
             0.5555555555555556,
             "#d8576b"
            ],
            [
             0.6666666666666666,
             "#ed7953"
            ],
            [
             0.7777777777777778,
             "#fb9f3a"
            ],
            [
             0.8888888888888888,
             "#fdca26"
            ],
            [
             1,
             "#f0f921"
            ]
           ],
           "sequentialminus": [
            [
             0,
             "#0d0887"
            ],
            [
             0.1111111111111111,
             "#46039f"
            ],
            [
             0.2222222222222222,
             "#7201a8"
            ],
            [
             0.3333333333333333,
             "#9c179e"
            ],
            [
             0.4444444444444444,
             "#bd3786"
            ],
            [
             0.5555555555555556,
             "#d8576b"
            ],
            [
             0.6666666666666666,
             "#ed7953"
            ],
            [
             0.7777777777777778,
             "#fb9f3a"
            ],
            [
             0.8888888888888888,
             "#fdca26"
            ],
            [
             1,
             "#f0f921"
            ]
           ]
          },
          "colorway": [
           "#636efa",
           "#EF553B",
           "#00cc96",
           "#ab63fa",
           "#FFA15A",
           "#19d3f3",
           "#FF6692",
           "#B6E880",
           "#FF97FF",
           "#FECB52"
          ],
          "font": {
           "color": "#2a3f5f"
          },
          "geo": {
           "bgcolor": "white",
           "lakecolor": "white",
           "landcolor": "#E5ECF6",
           "showlakes": true,
           "showland": true,
           "subunitcolor": "white"
          },
          "hoverlabel": {
           "align": "left"
          },
          "hovermode": "closest",
          "mapbox": {
           "style": "light"
          },
          "paper_bgcolor": "white",
          "plot_bgcolor": "#E5ECF6",
          "polar": {
           "angularaxis": {
            "gridcolor": "white",
            "linecolor": "white",
            "ticks": ""
           },
           "bgcolor": "#E5ECF6",
           "radialaxis": {
            "gridcolor": "white",
            "linecolor": "white",
            "ticks": ""
           }
          },
          "scene": {
           "xaxis": {
            "backgroundcolor": "#E5ECF6",
            "gridcolor": "white",
            "gridwidth": 2,
            "linecolor": "white",
            "showbackground": true,
            "ticks": "",
            "zerolinecolor": "white"
           },
           "yaxis": {
            "backgroundcolor": "#E5ECF6",
            "gridcolor": "white",
            "gridwidth": 2,
            "linecolor": "white",
            "showbackground": true,
            "ticks": "",
            "zerolinecolor": "white"
           },
           "zaxis": {
            "backgroundcolor": "#E5ECF6",
            "gridcolor": "white",
            "gridwidth": 2,
            "linecolor": "white",
            "showbackground": true,
            "ticks": "",
            "zerolinecolor": "white"
           }
          },
          "shapedefaults": {
           "line": {
            "color": "#2a3f5f"
           }
          },
          "ternary": {
           "aaxis": {
            "gridcolor": "white",
            "linecolor": "white",
            "ticks": ""
           },
           "baxis": {
            "gridcolor": "white",
            "linecolor": "white",
            "ticks": ""
           },
           "bgcolor": "#E5ECF6",
           "caxis": {
            "gridcolor": "white",
            "linecolor": "white",
            "ticks": ""
           }
          },
          "title": {
           "x": 0.05
          },
          "xaxis": {
           "automargin": true,
           "gridcolor": "white",
           "linecolor": "white",
           "ticks": "",
           "title": {
            "standoff": 15
           },
           "zerolinecolor": "white",
           "zerolinewidth": 2
          },
          "yaxis": {
           "automargin": true,
           "gridcolor": "white",
           "linecolor": "white",
           "ticks": "",
           "title": {
            "standoff": 15
           },
           "zerolinecolor": "white",
           "zerolinewidth": 2
          }
         }
        },
        "title": {
         "text": "Scatter Plot of S&P500"
        },
        "xaxis": {
         "anchor": "y",
         "domain": [
          0,
          1
         ],
         "title": {
          "text": "Time"
         }
        },
        "yaxis": {
         "anchor": "x",
         "domain": [
          0,
          1
         ],
         "title": {
          "text": "S&P500"
         }
        }
       }
      },
      "text/html": [
       "<div>                            <div id=\"e5607a81-9a0e-4617-b9c8-c9d907454620\" class=\"plotly-graph-div\" style=\"height:525px; width:100%;\"></div>            <script type=\"text/javascript\">                require([\"plotly\"], function(Plotly) {                    window.PLOTLYENV=window.PLOTLYENV || {};                                    if (document.getElementById(\"e5607a81-9a0e-4617-b9c8-c9d907454620\")) {                    Plotly.newPlot(                        \"e5607a81-9a0e-4617-b9c8-c9d907454620\",                        [{\"hovertemplate\":\"x=%{x}<br>y=%{y}<br>Cluster=%{marker.color}<extra></extra>\",\"legendgroup\":\"\",\"marker\":{\"color\":[3.0,3.0,3.0,3.0,3.0,3.0,3.0,3.0,3.0,3.0,3.0,3.0,3.0,3.0,3.0,3.0,3.0,3.0,3.0,3.0,3.0,3.0,3.0,3.0,3.0,3.0,3.0,3.0,3.0,3.0,3.0,3.0,1.0,1.0,1.0,2.0,2.0,2.0,3.0,3.0,3.0,3.0,3.0,3.0,3.0,3.0,3.0,3.0,3.0,3.0,3.0,3.0,3.0,3.0,1.0,1.0,1.0,1.0,1.0,2.0,2.0,2.0,1.0,2.0,2.0,0.0,1.0,1.0,1.0,2.0,2.0,2.0,1.0,1.0,2.0,2.0,2.0,2.0,0.0,0.0,0.0,0.0,0.0,0.0,0.0,0.0,0.0,0.0,0.0,0.0,0.0,0.0,0.0,0.0,0.0,0.0,0.0,3.0,0.0,3.0,3.0,3.0,3.0,3.0,3.0,3.0,3.0,3.0,3.0,3.0,3.0,3.0,3.0,3.0,3.0,3.0,3.0,3.0,2.0,3.0,3.0,1.0,1.0,2.0,2.0,1.0,0.0,1.0,1.0,1.0,1.0,1.0,1.0,2.0,2.0,2.0,2.0,2.0,2.0,2.0,2.0,0.0,0.0,0.0,0.0,1.0,1.0,0.0,2.0,2.0,2.0,2.0,2.0,0.0,0.0,0.0,1.0,0.0,2.0,2.0,2.0,0.0,0.0,0.0,2.0,0.0,0.0,0.0,0.0,2.0,0.0,0.0,0.0,0.0,0.0,0.0,0.0,0.0,0.0,0.0,0.0,0.0,0.0,0.0,0.0,0.0,0.0,0.0,0.0,0.0,0.0,0.0,0.0,0.0,0.0,1.0,0.0,0.0,0.0,0.0,0.0,0.0,0.0,0.0,0.0,0.0,0.0,0.0,0.0,0.0,0.0,0.0,0.0,0.0,0.0,0.0,0.0,0.0,0.0,0.0,0.0,0.0,0.0,0.0,0.0,1.0,0.0,2.0,0.0,0.0,0.0,0.0,0.0,0.0,0.0,1.0,1.0,2.0,2.0,2.0,2.0,0.0,2.0,2.0,2.0,2.0,2.0,0.0,0.0,0.0,0.0,0.0,0.0,2.0,0.0,0.0,0.0,1.0,1.0,0.0,1.0,1.0,0.0,3.0,3.0,3.0,3.0,3.0],\"coloraxis\":\"coloraxis\",\"symbol\":\"circle\"},\"mode\":\"markers\",\"name\":\"\",\"orientation\":\"v\",\"showlegend\":false,\"x\":[\"1995-08-31T00:00:00\",\"1995-09-29T00:00:00\",\"1995-10-31T00:00:00\",\"1995-11-30T00:00:00\",\"1995-12-29T00:00:00\",\"1996-01-31T00:00:00\",\"1996-02-29T00:00:00\",\"1996-03-29T00:00:00\",\"1996-04-30T00:00:00\",\"1996-05-31T00:00:00\",\"1996-07-31T00:00:00\",\"1996-08-30T00:00:00\",\"1996-09-30T00:00:00\",\"1996-10-31T00:00:00\",\"1997-01-31T00:00:00\",\"1997-02-28T00:00:00\",\"1997-03-31T00:00:00\",\"1997-04-30T00:00:00\",\"1997-05-30T00:00:00\",\"1997-06-30T00:00:00\",\"1997-07-31T00:00:00\",\"1997-09-30T00:00:00\",\"1997-10-31T00:00:00\",\"1997-11-28T00:00:00\",\"1997-12-31T00:00:00\",\"1998-01-30T00:00:00\",\"1998-02-27T00:00:00\",\"1998-04-30T00:00:00\",\"1998-05-29T00:00:00\",\"1998-06-30T00:00:00\",\"1998-07-31T00:00:00\",\"1998-08-31T00:00:00\",\"1998-09-30T00:00:00\",\"1998-10-30T00:00:00\",\"1998-11-30T00:00:00\",\"1998-12-31T00:00:00\",\"1999-01-29T00:00:00\",\"1999-02-26T00:00:00\",\"1999-03-31T00:00:00\",\"1999-04-30T00:00:00\",\"1999-05-31T00:00:00\",\"1999-06-30T00:00:00\",\"1999-07-30T00:00:00\",\"1999-08-31T00:00:00\",\"1999-09-30T00:00:00\",\"1999-11-30T00:00:00\",\"1999-12-31T00:00:00\",\"2000-01-31T00:00:00\",\"2000-02-29T00:00:00\",\"2000-05-31T00:00:00\",\"2000-06-30T00:00:00\",\"2000-08-31T00:00:00\",\"2000-10-31T00:00:00\",\"2000-11-30T00:00:00\",\"2000-12-29T00:00:00\",\"2001-01-31T00:00:00\",\"2001-03-30T00:00:00\",\"2001-04-30T00:00:00\",\"2001-05-31T00:00:00\",\"2001-06-29T00:00:00\",\"2001-07-31T00:00:00\",\"2001-08-31T00:00:00\",\"2001-12-31T00:00:00\",\"2002-01-31T00:00:00\",\"2002-02-28T00:00:00\",\"2002-05-31T00:00:00\",\"2002-09-30T00:00:00\",\"2002-10-31T00:00:00\",\"2002-11-29T00:00:00\",\"2002-12-31T00:00:00\",\"2003-01-31T00:00:00\",\"2003-02-28T00:00:00\",\"2003-03-31T00:00:00\",\"2003-04-30T00:00:00\",\"2003-05-30T00:00:00\",\"2003-06-30T00:00:00\",\"2003-07-31T00:00:00\",\"2003-08-29T00:00:00\",\"2003-09-30T00:00:00\",\"2003-10-31T00:00:00\",\"2003-11-28T00:00:00\",\"2003-12-31T00:00:00\",\"2004-03-31T00:00:00\",\"2004-04-30T00:00:00\",\"2004-06-30T00:00:00\",\"2004-07-30T00:00:00\",\"2004-08-31T00:00:00\",\"2004-09-30T00:00:00\",\"2004-10-29T00:00:00\",\"2004-11-30T00:00:00\",\"2004-12-31T00:00:00\",\"2005-01-31T00:00:00\",\"2005-02-28T00:00:00\",\"2005-04-29T00:00:00\",\"2005-05-31T00:00:00\",\"2005-07-29T00:00:00\",\"2005-08-31T00:00:00\",\"2005-10-31T00:00:00\",\"2005-12-30T00:00:00\",\"2006-01-31T00:00:00\",\"2006-03-31T00:00:00\",\"2006-04-28T00:00:00\",\"2006-05-31T00:00:00\",\"2006-06-30T00:00:00\",\"2006-07-31T00:00:00\",\"2006-08-31T00:00:00\",\"2006-09-29T00:00:00\",\"2006-11-30T00:00:00\",\"2006-12-29T00:00:00\",\"2007-01-31T00:00:00\",\"2007-02-28T00:00:00\",\"2007-03-30T00:00:00\",\"2007-05-31T00:00:00\",\"2007-06-29T00:00:00\",\"2007-07-31T00:00:00\",\"2007-08-31T00:00:00\",\"2007-09-28T00:00:00\",\"2007-10-31T00:00:00\",\"2007-11-30T00:00:00\",\"2007-12-31T00:00:00\",\"2008-01-31T00:00:00\",\"2008-02-29T00:00:00\",\"2008-04-30T00:00:00\",\"2008-06-30T00:00:00\",\"2008-07-31T00:00:00\",\"2008-08-29T00:00:00\",\"2008-09-30T00:00:00\",\"2008-10-31T00:00:00\",\"2008-11-28T00:00:00\",\"2008-12-31T00:00:00\",\"2009-01-30T00:00:00\",\"2009-03-31T00:00:00\",\"2009-04-30T00:00:00\",\"2009-05-29T00:00:00\",\"2009-06-30T00:00:00\",\"2009-07-31T00:00:00\",\"2009-09-30T00:00:00\",\"2009-10-30T00:00:00\",\"2009-11-30T00:00:00\",\"2009-12-31T00:00:00\",\"2010-01-29T00:00:00\",\"2010-02-26T00:00:00\",\"2010-03-31T00:00:00\",\"2010-04-30T00:00:00\",\"2010-06-30T00:00:00\",\"2010-07-30T00:00:00\",\"2010-08-31T00:00:00\",\"2010-09-30T00:00:00\",\"2010-10-29T00:00:00\",\"2010-11-30T00:00:00\",\"2010-12-31T00:00:00\",\"2011-01-31T00:00:00\",\"2011-02-28T00:00:00\",\"2011-06-30T00:00:00\",\"2011-07-29T00:00:00\",\"2011-08-31T00:00:00\",\"2011-09-30T00:00:00\",\"2011-12-30T00:00:00\",\"2012-01-31T00:00:00\",\"2012-02-29T00:00:00\",\"2012-04-30T00:00:00\",\"2012-06-29T00:00:00\",\"2012-07-31T00:00:00\",\"2012-08-31T00:00:00\",\"2012-09-28T00:00:00\",\"2012-10-31T00:00:00\",\"2012-11-30T00:00:00\",\"2012-12-31T00:00:00\",\"2013-01-31T00:00:00\",\"2013-02-28T00:00:00\",\"2013-04-30T00:00:00\",\"2013-05-31T00:00:00\",\"2013-06-28T00:00:00\",\"2013-07-31T00:00:00\",\"2013-08-30T00:00:00\",\"2013-09-30T00:00:00\",\"2013-10-31T00:00:00\",\"2013-11-29T00:00:00\",\"2013-12-31T00:00:00\",\"2014-01-31T00:00:00\",\"2014-02-28T00:00:00\",\"2014-03-31T00:00:00\",\"2014-04-30T00:00:00\",\"2014-05-30T00:00:00\",\"2014-06-30T00:00:00\",\"2014-07-31T00:00:00\",\"2014-08-29T00:00:00\",\"2014-11-28T00:00:00\",\"2014-12-31T00:00:00\",\"2015-03-31T00:00:00\",\"2015-04-30T00:00:00\",\"2015-05-29T00:00:00\",\"2015-06-30T00:00:00\",\"2015-07-31T00:00:00\",\"2015-08-31T00:00:00\",\"2015-10-30T00:00:00\",\"2015-11-30T00:00:00\",\"2015-12-31T00:00:00\",\"2016-01-29T00:00:00\",\"2016-02-29T00:00:00\",\"2016-03-31T00:00:00\",\"2016-04-29T00:00:00\",\"2016-05-31T00:00:00\",\"2016-08-31T00:00:00\",\"2016-09-30T00:00:00\",\"2016-11-30T00:00:00\",\"2016-12-30T00:00:00\",\"2017-02-28T00:00:00\",\"2017-03-31T00:00:00\",\"2017-04-28T00:00:00\",\"2017-05-31T00:00:00\",\"2017-06-30T00:00:00\",\"2017-07-31T00:00:00\",\"2017-08-31T00:00:00\",\"2017-09-29T00:00:00\",\"2017-10-31T00:00:00\",\"2017-11-30T00:00:00\",\"2018-01-31T00:00:00\",\"2018-03-30T00:00:00\",\"2018-06-29T00:00:00\",\"2018-07-31T00:00:00\",\"2018-08-31T00:00:00\",\"2018-09-28T00:00:00\",\"2018-11-30T00:00:00\",\"2018-12-31T00:00:00\",\"2019-01-31T00:00:00\",\"2019-02-28T00:00:00\",\"2019-04-30T00:00:00\",\"2019-06-28T00:00:00\",\"2019-08-30T00:00:00\",\"2019-09-30T00:00:00\",\"2019-11-29T00:00:00\",\"2019-12-31T00:00:00\",\"2020-01-31T00:00:00\",\"2020-02-28T00:00:00\",\"2020-03-31T00:00:00\",\"2020-05-29T00:00:00\",\"2020-07-31T00:00:00\",\"2020-08-31T00:00:00\",\"2020-09-30T00:00:00\",\"2020-10-30T00:00:00\",\"2020-11-30T00:00:00\",\"2021-02-26T00:00:00\",\"2021-03-31T00:00:00\",\"2021-04-30T00:00:00\",\"2021-05-31T00:00:00\",\"2021-06-30T00:00:00\",\"2021-07-30T00:00:00\",\"2021-08-31T00:00:00\",\"2021-09-30T00:00:00\",\"2021-10-29T00:00:00\",\"2021-11-30T00:00:00\",\"2021-12-31T00:00:00\",\"2022-01-31T00:00:00\",\"2022-02-28T00:00:00\",\"2022-03-31T00:00:00\",\"2022-04-29T00:00:00\",\"2022-05-31T00:00:00\",\"2022-07-29T00:00:00\",\"2022-09-30T00:00:00\",\"2022-10-31T00:00:00\",\"2022-11-30T00:00:00\",\"2022-12-30T00:00:00\",\"2023-03-31T00:00:00\",\"2023-04-28T00:00:00\",\"2023-05-31T00:00:00\",\"2023-06-30T00:00:00\",\"2023-07-31T00:00:00\"],\"xaxis\":\"x\",\"y\":[561.88,584.41,581.5,605.37,615.93,636.02,640.43,645.5,654.17,669.12,639.95,651.99,687.31,705.27,786.16,790.82,757.12,801.34,848.28,885.14,954.29,947.28,914.62,955.4,970.43,980.28,1049.34,1111.75,1090.82,1133.84,1120.67,957.28,1017.01,1098.67,1163.63,1229.23,1279.64,1238.33,1286.37,1335.18,1301.84,1372.71,1328.72,1320.41,1282.71,1388.91,1469.25,1394.46,1366.42,1420.6,1454.6,1517.68,1429.4,1314.95,1320.28,1366.01,1160.33,1249.46,1255.82,1224.42,1211.23,1133.58,1148.08,1130.21,1106.73,1067.14,815.28,885.76,936.31,879.82,855.7,841.15,848.18,916.92,963.59,974.5,990.31,1008.01,995.97,1050.71,1058.2,1111.92,1126.21,1107.31,1140.84,1101.72,1104.24,1114.58,1130.2,1173.82,1211.92,1181.27,1203.6,1156.85,1191.5,1234.18,1220.33,1207.01,1248.29,1280.09,1294.83,1310.61,1270.09,1270.2,1276.66,1303.82,1335.85,1400.63,1418.3,1438.24,1406.82,1420.86,1530.62,1503.35,1455.28,1473.99,1526.75,1549.38,1481.14,1468.36,1378.55,1330.63,1385.59,1280.0,1267.38,1282.83,1166.36,968.75,896.24,903.25,825.88,797.87,872.81,919.14,919.32,987.48,1057.08,1036.2,1095.63,1115.1,1073.87,1104.49,1169.43,1186.69,1030.71,1101.6,1049.33,1141.2,1183.26,1180.55,1257.64,1286.12,1327.22,1320.64,1292.28,1218.89,1131.42,1257.61,1312.41,1365.68,1397.91,1362.16,1379.32,1406.58,1440.67,1412.16,1416.18,1426.19,1498.11,1514.68,1597.57,1630.74,1606.28,1685.73,1632.97,1681.55,1756.54,1805.81,1848.36,1782.59,1859.45,1872.34,1883.95,1923.57,1960.23,1930.67,2003.37,2067.56,2058.9,2067.89,2085.51,2107.39,2063.11,2103.84,1972.18,2079.36,2080.41,2043.94,1940.24,1932.23,2059.74,2065.3,2096.96,2170.95,2168.27,2198.81,2238.83,2363.64,2362.72,2384.2,2411.8,2423.41,2470.3,2471.65,2519.36,2575.26,2647.58,2823.81,2640.87,2718.37,2816.29,2901.52,2913.98,2760.17,2506.85,2704.1,2784.49,2945.83,2941.76,2926.46,2976.74,3140.98,3230.78,3225.52,2954.22,2584.59,3044.31,3271.12,3500.31,3363.0,3269.96,3621.63,3811.15,3972.89,4181.17,4204.11,4297.5,4395.26,4522.68,4307.54,4605.38,4567.0,4766.18,4515.55,4373.94,4530.41,4131.93,4132.15,4130.29,3585.62,3871.98,4080.11,3839.5,4109.31,4169.48,4179.83,4450.38,4588.96],\"yaxis\":\"y\",\"type\":\"scatter\"}],                        {\"template\":{\"data\":{\"histogram2dcontour\":[{\"type\":\"histogram2dcontour\",\"colorbar\":{\"outlinewidth\":0,\"ticks\":\"\"},\"colorscale\":[[0.0,\"#0d0887\"],[0.1111111111111111,\"#46039f\"],[0.2222222222222222,\"#7201a8\"],[0.3333333333333333,\"#9c179e\"],[0.4444444444444444,\"#bd3786\"],[0.5555555555555556,\"#d8576b\"],[0.6666666666666666,\"#ed7953\"],[0.7777777777777778,\"#fb9f3a\"],[0.8888888888888888,\"#fdca26\"],[1.0,\"#f0f921\"]]}],\"choropleth\":[{\"type\":\"choropleth\",\"colorbar\":{\"outlinewidth\":0,\"ticks\":\"\"}}],\"histogram2d\":[{\"type\":\"histogram2d\",\"colorbar\":{\"outlinewidth\":0,\"ticks\":\"\"},\"colorscale\":[[0.0,\"#0d0887\"],[0.1111111111111111,\"#46039f\"],[0.2222222222222222,\"#7201a8\"],[0.3333333333333333,\"#9c179e\"],[0.4444444444444444,\"#bd3786\"],[0.5555555555555556,\"#d8576b\"],[0.6666666666666666,\"#ed7953\"],[0.7777777777777778,\"#fb9f3a\"],[0.8888888888888888,\"#fdca26\"],[1.0,\"#f0f921\"]]}],\"heatmap\":[{\"type\":\"heatmap\",\"colorbar\":{\"outlinewidth\":0,\"ticks\":\"\"},\"colorscale\":[[0.0,\"#0d0887\"],[0.1111111111111111,\"#46039f\"],[0.2222222222222222,\"#7201a8\"],[0.3333333333333333,\"#9c179e\"],[0.4444444444444444,\"#bd3786\"],[0.5555555555555556,\"#d8576b\"],[0.6666666666666666,\"#ed7953\"],[0.7777777777777778,\"#fb9f3a\"],[0.8888888888888888,\"#fdca26\"],[1.0,\"#f0f921\"]]}],\"heatmapgl\":[{\"type\":\"heatmapgl\",\"colorbar\":{\"outlinewidth\":0,\"ticks\":\"\"},\"colorscale\":[[0.0,\"#0d0887\"],[0.1111111111111111,\"#46039f\"],[0.2222222222222222,\"#7201a8\"],[0.3333333333333333,\"#9c179e\"],[0.4444444444444444,\"#bd3786\"],[0.5555555555555556,\"#d8576b\"],[0.6666666666666666,\"#ed7953\"],[0.7777777777777778,\"#fb9f3a\"],[0.8888888888888888,\"#fdca26\"],[1.0,\"#f0f921\"]]}],\"contourcarpet\":[{\"type\":\"contourcarpet\",\"colorbar\":{\"outlinewidth\":0,\"ticks\":\"\"}}],\"contour\":[{\"type\":\"contour\",\"colorbar\":{\"outlinewidth\":0,\"ticks\":\"\"},\"colorscale\":[[0.0,\"#0d0887\"],[0.1111111111111111,\"#46039f\"],[0.2222222222222222,\"#7201a8\"],[0.3333333333333333,\"#9c179e\"],[0.4444444444444444,\"#bd3786\"],[0.5555555555555556,\"#d8576b\"],[0.6666666666666666,\"#ed7953\"],[0.7777777777777778,\"#fb9f3a\"],[0.8888888888888888,\"#fdca26\"],[1.0,\"#f0f921\"]]}],\"surface\":[{\"type\":\"surface\",\"colorbar\":{\"outlinewidth\":0,\"ticks\":\"\"},\"colorscale\":[[0.0,\"#0d0887\"],[0.1111111111111111,\"#46039f\"],[0.2222222222222222,\"#7201a8\"],[0.3333333333333333,\"#9c179e\"],[0.4444444444444444,\"#bd3786\"],[0.5555555555555556,\"#d8576b\"],[0.6666666666666666,\"#ed7953\"],[0.7777777777777778,\"#fb9f3a\"],[0.8888888888888888,\"#fdca26\"],[1.0,\"#f0f921\"]]}],\"mesh3d\":[{\"type\":\"mesh3d\",\"colorbar\":{\"outlinewidth\":0,\"ticks\":\"\"}}],\"scatter\":[{\"fillpattern\":{\"fillmode\":\"overlay\",\"size\":10,\"solidity\":0.2},\"type\":\"scatter\"}],\"parcoords\":[{\"type\":\"parcoords\",\"line\":{\"colorbar\":{\"outlinewidth\":0,\"ticks\":\"\"}}}],\"scatterpolargl\":[{\"type\":\"scatterpolargl\",\"marker\":{\"colorbar\":{\"outlinewidth\":0,\"ticks\":\"\"}}}],\"bar\":[{\"error_x\":{\"color\":\"#2a3f5f\"},\"error_y\":{\"color\":\"#2a3f5f\"},\"marker\":{\"line\":{\"color\":\"#E5ECF6\",\"width\":0.5},\"pattern\":{\"fillmode\":\"overlay\",\"size\":10,\"solidity\":0.2}},\"type\":\"bar\"}],\"scattergeo\":[{\"type\":\"scattergeo\",\"marker\":{\"colorbar\":{\"outlinewidth\":0,\"ticks\":\"\"}}}],\"scatterpolar\":[{\"type\":\"scatterpolar\",\"marker\":{\"colorbar\":{\"outlinewidth\":0,\"ticks\":\"\"}}}],\"histogram\":[{\"marker\":{\"pattern\":{\"fillmode\":\"overlay\",\"size\":10,\"solidity\":0.2}},\"type\":\"histogram\"}],\"scattergl\":[{\"type\":\"scattergl\",\"marker\":{\"colorbar\":{\"outlinewidth\":0,\"ticks\":\"\"}}}],\"scatter3d\":[{\"type\":\"scatter3d\",\"line\":{\"colorbar\":{\"outlinewidth\":0,\"ticks\":\"\"}},\"marker\":{\"colorbar\":{\"outlinewidth\":0,\"ticks\":\"\"}}}],\"scattermapbox\":[{\"type\":\"scattermapbox\",\"marker\":{\"colorbar\":{\"outlinewidth\":0,\"ticks\":\"\"}}}],\"scatterternary\":[{\"type\":\"scatterternary\",\"marker\":{\"colorbar\":{\"outlinewidth\":0,\"ticks\":\"\"}}}],\"scattercarpet\":[{\"type\":\"scattercarpet\",\"marker\":{\"colorbar\":{\"outlinewidth\":0,\"ticks\":\"\"}}}],\"carpet\":[{\"aaxis\":{\"endlinecolor\":\"#2a3f5f\",\"gridcolor\":\"white\",\"linecolor\":\"white\",\"minorgridcolor\":\"white\",\"startlinecolor\":\"#2a3f5f\"},\"baxis\":{\"endlinecolor\":\"#2a3f5f\",\"gridcolor\":\"white\",\"linecolor\":\"white\",\"minorgridcolor\":\"white\",\"startlinecolor\":\"#2a3f5f\"},\"type\":\"carpet\"}],\"table\":[{\"cells\":{\"fill\":{\"color\":\"#EBF0F8\"},\"line\":{\"color\":\"white\"}},\"header\":{\"fill\":{\"color\":\"#C8D4E3\"},\"line\":{\"color\":\"white\"}},\"type\":\"table\"}],\"barpolar\":[{\"marker\":{\"line\":{\"color\":\"#E5ECF6\",\"width\":0.5},\"pattern\":{\"fillmode\":\"overlay\",\"size\":10,\"solidity\":0.2}},\"type\":\"barpolar\"}],\"pie\":[{\"automargin\":true,\"type\":\"pie\"}]},\"layout\":{\"autotypenumbers\":\"strict\",\"colorway\":[\"#636efa\",\"#EF553B\",\"#00cc96\",\"#ab63fa\",\"#FFA15A\",\"#19d3f3\",\"#FF6692\",\"#B6E880\",\"#FF97FF\",\"#FECB52\"],\"font\":{\"color\":\"#2a3f5f\"},\"hovermode\":\"closest\",\"hoverlabel\":{\"align\":\"left\"},\"paper_bgcolor\":\"white\",\"plot_bgcolor\":\"#E5ECF6\",\"polar\":{\"bgcolor\":\"#E5ECF6\",\"angularaxis\":{\"gridcolor\":\"white\",\"linecolor\":\"white\",\"ticks\":\"\"},\"radialaxis\":{\"gridcolor\":\"white\",\"linecolor\":\"white\",\"ticks\":\"\"}},\"ternary\":{\"bgcolor\":\"#E5ECF6\",\"aaxis\":{\"gridcolor\":\"white\",\"linecolor\":\"white\",\"ticks\":\"\"},\"baxis\":{\"gridcolor\":\"white\",\"linecolor\":\"white\",\"ticks\":\"\"},\"caxis\":{\"gridcolor\":\"white\",\"linecolor\":\"white\",\"ticks\":\"\"}},\"coloraxis\":{\"colorbar\":{\"outlinewidth\":0,\"ticks\":\"\"}},\"colorscale\":{\"sequential\":[[0.0,\"#0d0887\"],[0.1111111111111111,\"#46039f\"],[0.2222222222222222,\"#7201a8\"],[0.3333333333333333,\"#9c179e\"],[0.4444444444444444,\"#bd3786\"],[0.5555555555555556,\"#d8576b\"],[0.6666666666666666,\"#ed7953\"],[0.7777777777777778,\"#fb9f3a\"],[0.8888888888888888,\"#fdca26\"],[1.0,\"#f0f921\"]],\"sequentialminus\":[[0.0,\"#0d0887\"],[0.1111111111111111,\"#46039f\"],[0.2222222222222222,\"#7201a8\"],[0.3333333333333333,\"#9c179e\"],[0.4444444444444444,\"#bd3786\"],[0.5555555555555556,\"#d8576b\"],[0.6666666666666666,\"#ed7953\"],[0.7777777777777778,\"#fb9f3a\"],[0.8888888888888888,\"#fdca26\"],[1.0,\"#f0f921\"]],\"diverging\":[[0,\"#8e0152\"],[0.1,\"#c51b7d\"],[0.2,\"#de77ae\"],[0.3,\"#f1b6da\"],[0.4,\"#fde0ef\"],[0.5,\"#f7f7f7\"],[0.6,\"#e6f5d0\"],[0.7,\"#b8e186\"],[0.8,\"#7fbc41\"],[0.9,\"#4d9221\"],[1,\"#276419\"]]},\"xaxis\":{\"gridcolor\":\"white\",\"linecolor\":\"white\",\"ticks\":\"\",\"title\":{\"standoff\":15},\"zerolinecolor\":\"white\",\"automargin\":true,\"zerolinewidth\":2},\"yaxis\":{\"gridcolor\":\"white\",\"linecolor\":\"white\",\"ticks\":\"\",\"title\":{\"standoff\":15},\"zerolinecolor\":\"white\",\"automargin\":true,\"zerolinewidth\":2},\"scene\":{\"xaxis\":{\"backgroundcolor\":\"#E5ECF6\",\"gridcolor\":\"white\",\"linecolor\":\"white\",\"showbackground\":true,\"ticks\":\"\",\"zerolinecolor\":\"white\",\"gridwidth\":2},\"yaxis\":{\"backgroundcolor\":\"#E5ECF6\",\"gridcolor\":\"white\",\"linecolor\":\"white\",\"showbackground\":true,\"ticks\":\"\",\"zerolinecolor\":\"white\",\"gridwidth\":2},\"zaxis\":{\"backgroundcolor\":\"#E5ECF6\",\"gridcolor\":\"white\",\"linecolor\":\"white\",\"showbackground\":true,\"ticks\":\"\",\"zerolinecolor\":\"white\",\"gridwidth\":2}},\"shapedefaults\":{\"line\":{\"color\":\"#2a3f5f\"}},\"annotationdefaults\":{\"arrowcolor\":\"#2a3f5f\",\"arrowhead\":0,\"arrowwidth\":1},\"geo\":{\"bgcolor\":\"white\",\"landcolor\":\"#E5ECF6\",\"subunitcolor\":\"white\",\"showland\":true,\"showlakes\":true,\"lakecolor\":\"white\"},\"title\":{\"x\":0.05},\"mapbox\":{\"style\":\"light\"}}},\"xaxis\":{\"anchor\":\"y\",\"domain\":[0.0,1.0],\"title\":{\"text\":\"Time\"}},\"yaxis\":{\"anchor\":\"x\",\"domain\":[0.0,1.0],\"title\":{\"text\":\"S&P500\"}},\"coloraxis\":{\"colorbar\":{\"title\":{\"text\":\"Cluster\"}},\"colorscale\":[[0.0,\"#0d0887\"],[0.1111111111111111,\"#46039f\"],[0.2222222222222222,\"#7201a8\"],[0.3333333333333333,\"#9c179e\"],[0.4444444444444444,\"#bd3786\"],[0.5555555555555556,\"#d8576b\"],[0.6666666666666666,\"#ed7953\"],[0.7777777777777778,\"#fb9f3a\"],[0.8888888888888888,\"#fdca26\"],[1.0,\"#f0f921\"]]},\"legend\":{\"tracegroupgap\":0},\"margin\":{\"t\":60},\"title\":{\"text\":\"Scatter Plot of S&P500\"}},                        {\"responsive\": true}                    ).then(function(){\n",
       "                            \n",
       "var gd = document.getElementById('e5607a81-9a0e-4617-b9c8-c9d907454620');\n",
       "var x = new MutationObserver(function (mutations, observer) {{\n",
       "        var display = window.getComputedStyle(gd).display;\n",
       "        if (!display || display === 'none') {{\n",
       "            console.log([gd, 'removed!']);\n",
       "            Plotly.purge(gd);\n",
       "            observer.disconnect();\n",
       "        }}\n",
       "}});\n",
       "\n",
       "// Listen for the removal of the full notebook cells\n",
       "var notebookContainer = gd.closest('#notebook-container');\n",
       "if (notebookContainer) {{\n",
       "    x.observe(notebookContainer, {childList: true});\n",
       "}}\n",
       "\n",
       "// Listen for the clearing of the current output cell\n",
       "var outputEl = gd.closest('.output');\n",
       "if (outputEl) {{\n",
       "    x.observe(outputEl, {childList: true});\n",
       "}}\n",
       "\n",
       "                        })                };                });            </script>        </div>"
      ]
     },
     "metadata": {},
     "output_type": "display_data"
    }
   ],
   "source": [
    "import plotly.express as px\n",
    "fig = px.scatter(df_instrument.loc[train_df.index], x=train_df.index, y=df_indicator.loc[train_df.index, 'S&P500'], color = 'Cluster')\n",
    "\n",
    "# Customize the plot\n",
    "#fig.update_traces(textposition='top center', textfont_size=10)\n",
    "\n",
    "# Set axis labels and plot title\n",
    "fig.update_layout(xaxis_title='Time', yaxis_title='S&P500', title='Scatter Plot of S&P500')\n",
    "\n",
    "# Show the plot\n",
    "fig.show()"
   ]
  },
  {
   "cell_type": "code",
   "execution_count": 39,
   "id": "23863b26",
   "metadata": {},
   "outputs": [],
   "source": [
    "regimeDic = {2:'SlowDown', 3:'Contraction', 0:'Expansion', 1:'Recovery'}"
   ]
  },
  {
   "cell_type": "markdown",
   "id": "768d8102",
   "metadata": {},
   "source": [
    "<p style=\"font-size: 20px; font-weight: bold;\">Part 6: Assets Performence under Each Regime.</b>"
   ]
  },
  {
   "cell_type": "code",
   "execution_count": 40,
   "id": "45528b48",
   "metadata": {},
   "outputs": [],
   "source": [
    "def getRegimeInfo(df_logReturn, train_df):\n",
    "    df_out_all = pd.DataFrame()\n",
    "    for regime in range(4):\n",
    "        df = df_logReturn.loc[train_df[train_df['Cluster'] == regime].index]\n",
    "        df['Benchmark'] = df.mean(axis = 1)\n",
    "        mean_r = 12*df.dropna().mean()\n",
    "        sigma_r = np.sqrt(12)*df.dropna().std()\n",
    "        mean_r_rm = 12*df.sub(df['Benchmark'], axis = 0).dropna().mean()\n",
    "        sigma_r_rm = np.sqrt(12)*df.sub(df['Benchmark'], axis = 0).dropna().std()\n",
    "        sharpe_ratio = (mean_r)/ (sigma_r)\n",
    "        info_ratio = (mean_r_rm)/ (sigma_r_rm)\n",
    "        df_out = pd.DataFrame(columns = df.columns)\n",
    "        df_out.loc['Mean Return'] = mean_r\n",
    "        df_out.loc['Return Std'] = sigma_r\n",
    "        df_out.loc['Mean Excess Return'] = mean_r_rm\n",
    "        df_out.loc['Info Std'] = sigma_r_rm\n",
    "        df_out.loc['Sharpe Ratio'] = sharpe_ratio\n",
    "        df_out.loc['Info Ratio'] = info_ratio\n",
    "        df_out['Regime'] = regimeDic[regime]\n",
    "        df_out_all = pd.concat((df_out_all, df_out))\n",
    "    return df_out_all.fillna(0)\n",
    "\n",
    "regimeDf = getRegimeInfo(df_logReturn, train_df)"
   ]
  },
  {
   "cell_type": "code",
   "execution_count": 28,
   "id": "ba4314ea",
   "metadata": {},
   "outputs": [
    {
     "data": {
      "application/vnd.plotly.v1+json": {
       "config": {
        "plotlyServerURL": "https://plot.ly"
       },
       "data": [
        {
         "name": "Info Ratio",
         "type": "bar",
         "x": [
          "MSCI US Momentum index",
          "MSCI US Quality index",
          "MSCI US Min Vol index",
          "MSCI US Value index",
          "MSCI US Growth index",
          "Russell 2000",
          "US IG corporate bonds index",
          "GSCI commodity index",
          "US 10-year Treasury Bond Index",
          "US 3-month T-bill Index"
         ],
         "xaxis": "x",
         "y": [
          0.49215971671379133,
          0.334242313936555,
          0.8598175880810845,
          0.008118259206577166,
          0.04419406217927032,
          -0.3866265741707505,
          0.14153068501124944,
          -0.47850054356393934,
          0.19025153420867477,
          -0.06871078592039626
         ],
         "yaxis": "y"
        },
        {
         "name": "Info Ratio",
         "type": "bar",
         "x": [
          "MSCI US Momentum index",
          "MSCI US Quality index",
          "MSCI US Min Vol index",
          "MSCI US Value index",
          "MSCI US Growth index",
          "Russell 2000",
          "US IG corporate bonds index",
          "GSCI commodity index",
          "US 10-year Treasury Bond Index",
          "US 3-month T-bill Index"
         ],
         "xaxis": "x2",
         "y": [
          0.2170898191681148,
          0.4931162056145534,
          -0.14316423479602713,
          -0.3111686282071219,
          0.24013976046272964,
          -0.3266940286522219,
          -0.1231158534528774,
          0.22673095293993833,
          -0.12959397801987746,
          -0.2778817665067484
         ],
         "yaxis": "y2"
        },
        {
         "name": "Info Ratio",
         "type": "bar",
         "x": [
          "MSCI US Momentum index",
          "MSCI US Quality index",
          "MSCI US Min Vol index",
          "MSCI US Value index",
          "MSCI US Growth index",
          "Russell 2000",
          "US IG corporate bonds index",
          "GSCI commodity index",
          "US 10-year Treasury Bond Index",
          "US 3-month T-bill Index"
         ],
         "xaxis": "x3",
         "y": [
          0.08731656875196434,
          1.1576783445514878,
          0.8477331366782795,
          -0.008615050376156586,
          0.39643179677191576,
          -0.15826553716157823,
          0.5280683769251007,
          -1.6849278089188968,
          0.6471670248573382,
          0.21885000107620992
         ],
         "yaxis": "y3"
        },
        {
         "name": "Info Ratio",
         "type": "bar",
         "x": [
          "MSCI US Momentum index",
          "MSCI US Quality index",
          "MSCI US Min Vol index",
          "MSCI US Value index",
          "MSCI US Growth index",
          "Russell 2000",
          "US IG corporate bonds index",
          "GSCI commodity index",
          "US 10-year Treasury Bond Index",
          "US 3-month T-bill Index"
         ],
         "xaxis": "x4",
         "y": [
          0.3432724245144044,
          -0.013390067121883351,
          0.17270070108399962,
          -0.05198159225935136,
          0.09861089694952334,
          0.29760779137776405,
          -0.8940598813141571,
          1.193943252801289,
          -0.8259571994160664,
          -1.3104113042391723
         ],
         "yaxis": "y4"
        }
       ],
       "layout": {
        "annotations": [
         {
          "font": {
           "size": 16
          },
          "showarrow": false,
          "text": "Expansion",
          "x": 0.10625,
          "xanchor": "center",
          "xref": "paper",
          "y": 1,
          "yanchor": "bottom",
          "yref": "paper"
         },
         {
          "font": {
           "size": 16
          },
          "showarrow": false,
          "text": "SlowDown",
          "x": 0.36875,
          "xanchor": "center",
          "xref": "paper",
          "y": 1,
          "yanchor": "bottom",
          "yref": "paper"
         },
         {
          "font": {
           "size": 16
          },
          "showarrow": false,
          "text": "Contraction",
          "x": 0.6312500000000001,
          "xanchor": "center",
          "xref": "paper",
          "y": 1,
          "yanchor": "bottom",
          "yref": "paper"
         },
         {
          "font": {
           "size": 16
          },
          "showarrow": false,
          "text": "Recovery",
          "x": 0.89375,
          "xanchor": "center",
          "xref": "paper",
          "y": 1,
          "yanchor": "bottom",
          "yref": "paper"
         }
        ],
        "height": 600,
        "showlegend": false,
        "template": {
         "data": {
          "bar": [
           {
            "error_x": {
             "color": "#2a3f5f"
            },
            "error_y": {
             "color": "#2a3f5f"
            },
            "marker": {
             "line": {
              "color": "#E5ECF6",
              "width": 0.5
             },
             "pattern": {
              "fillmode": "overlay",
              "size": 10,
              "solidity": 0.2
             }
            },
            "type": "bar"
           }
          ],
          "barpolar": [
           {
            "marker": {
             "line": {
              "color": "#E5ECF6",
              "width": 0.5
             },
             "pattern": {
              "fillmode": "overlay",
              "size": 10,
              "solidity": 0.2
             }
            },
            "type": "barpolar"
           }
          ],
          "carpet": [
           {
            "aaxis": {
             "endlinecolor": "#2a3f5f",
             "gridcolor": "white",
             "linecolor": "white",
             "minorgridcolor": "white",
             "startlinecolor": "#2a3f5f"
            },
            "baxis": {
             "endlinecolor": "#2a3f5f",
             "gridcolor": "white",
             "linecolor": "white",
             "minorgridcolor": "white",
             "startlinecolor": "#2a3f5f"
            },
            "type": "carpet"
           }
          ],
          "choropleth": [
           {
            "colorbar": {
             "outlinewidth": 0,
             "ticks": ""
            },
            "type": "choropleth"
           }
          ],
          "contour": [
           {
            "colorbar": {
             "outlinewidth": 0,
             "ticks": ""
            },
            "colorscale": [
             [
              0,
              "#0d0887"
             ],
             [
              0.1111111111111111,
              "#46039f"
             ],
             [
              0.2222222222222222,
              "#7201a8"
             ],
             [
              0.3333333333333333,
              "#9c179e"
             ],
             [
              0.4444444444444444,
              "#bd3786"
             ],
             [
              0.5555555555555556,
              "#d8576b"
             ],
             [
              0.6666666666666666,
              "#ed7953"
             ],
             [
              0.7777777777777778,
              "#fb9f3a"
             ],
             [
              0.8888888888888888,
              "#fdca26"
             ],
             [
              1,
              "#f0f921"
             ]
            ],
            "type": "contour"
           }
          ],
          "contourcarpet": [
           {
            "colorbar": {
             "outlinewidth": 0,
             "ticks": ""
            },
            "type": "contourcarpet"
           }
          ],
          "heatmap": [
           {
            "colorbar": {
             "outlinewidth": 0,
             "ticks": ""
            },
            "colorscale": [
             [
              0,
              "#0d0887"
             ],
             [
              0.1111111111111111,
              "#46039f"
             ],
             [
              0.2222222222222222,
              "#7201a8"
             ],
             [
              0.3333333333333333,
              "#9c179e"
             ],
             [
              0.4444444444444444,
              "#bd3786"
             ],
             [
              0.5555555555555556,
              "#d8576b"
             ],
             [
              0.6666666666666666,
              "#ed7953"
             ],
             [
              0.7777777777777778,
              "#fb9f3a"
             ],
             [
              0.8888888888888888,
              "#fdca26"
             ],
             [
              1,
              "#f0f921"
             ]
            ],
            "type": "heatmap"
           }
          ],
          "heatmapgl": [
           {
            "colorbar": {
             "outlinewidth": 0,
             "ticks": ""
            },
            "colorscale": [
             [
              0,
              "#0d0887"
             ],
             [
              0.1111111111111111,
              "#46039f"
             ],
             [
              0.2222222222222222,
              "#7201a8"
             ],
             [
              0.3333333333333333,
              "#9c179e"
             ],
             [
              0.4444444444444444,
              "#bd3786"
             ],
             [
              0.5555555555555556,
              "#d8576b"
             ],
             [
              0.6666666666666666,
              "#ed7953"
             ],
             [
              0.7777777777777778,
              "#fb9f3a"
             ],
             [
              0.8888888888888888,
              "#fdca26"
             ],
             [
              1,
              "#f0f921"
             ]
            ],
            "type": "heatmapgl"
           }
          ],
          "histogram": [
           {
            "marker": {
             "pattern": {
              "fillmode": "overlay",
              "size": 10,
              "solidity": 0.2
             }
            },
            "type": "histogram"
           }
          ],
          "histogram2d": [
           {
            "colorbar": {
             "outlinewidth": 0,
             "ticks": ""
            },
            "colorscale": [
             [
              0,
              "#0d0887"
             ],
             [
              0.1111111111111111,
              "#46039f"
             ],
             [
              0.2222222222222222,
              "#7201a8"
             ],
             [
              0.3333333333333333,
              "#9c179e"
             ],
             [
              0.4444444444444444,
              "#bd3786"
             ],
             [
              0.5555555555555556,
              "#d8576b"
             ],
             [
              0.6666666666666666,
              "#ed7953"
             ],
             [
              0.7777777777777778,
              "#fb9f3a"
             ],
             [
              0.8888888888888888,
              "#fdca26"
             ],
             [
              1,
              "#f0f921"
             ]
            ],
            "type": "histogram2d"
           }
          ],
          "histogram2dcontour": [
           {
            "colorbar": {
             "outlinewidth": 0,
             "ticks": ""
            },
            "colorscale": [
             [
              0,
              "#0d0887"
             ],
             [
              0.1111111111111111,
              "#46039f"
             ],
             [
              0.2222222222222222,
              "#7201a8"
             ],
             [
              0.3333333333333333,
              "#9c179e"
             ],
             [
              0.4444444444444444,
              "#bd3786"
             ],
             [
              0.5555555555555556,
              "#d8576b"
             ],
             [
              0.6666666666666666,
              "#ed7953"
             ],
             [
              0.7777777777777778,
              "#fb9f3a"
             ],
             [
              0.8888888888888888,
              "#fdca26"
             ],
             [
              1,
              "#f0f921"
             ]
            ],
            "type": "histogram2dcontour"
           }
          ],
          "mesh3d": [
           {
            "colorbar": {
             "outlinewidth": 0,
             "ticks": ""
            },
            "type": "mesh3d"
           }
          ],
          "parcoords": [
           {
            "line": {
             "colorbar": {
              "outlinewidth": 0,
              "ticks": ""
             }
            },
            "type": "parcoords"
           }
          ],
          "pie": [
           {
            "automargin": true,
            "type": "pie"
           }
          ],
          "scatter": [
           {
            "fillpattern": {
             "fillmode": "overlay",
             "size": 10,
             "solidity": 0.2
            },
            "type": "scatter"
           }
          ],
          "scatter3d": [
           {
            "line": {
             "colorbar": {
              "outlinewidth": 0,
              "ticks": ""
             }
            },
            "marker": {
             "colorbar": {
              "outlinewidth": 0,
              "ticks": ""
             }
            },
            "type": "scatter3d"
           }
          ],
          "scattercarpet": [
           {
            "marker": {
             "colorbar": {
              "outlinewidth": 0,
              "ticks": ""
             }
            },
            "type": "scattercarpet"
           }
          ],
          "scattergeo": [
           {
            "marker": {
             "colorbar": {
              "outlinewidth": 0,
              "ticks": ""
             }
            },
            "type": "scattergeo"
           }
          ],
          "scattergl": [
           {
            "marker": {
             "colorbar": {
              "outlinewidth": 0,
              "ticks": ""
             }
            },
            "type": "scattergl"
           }
          ],
          "scattermapbox": [
           {
            "marker": {
             "colorbar": {
              "outlinewidth": 0,
              "ticks": ""
             }
            },
            "type": "scattermapbox"
           }
          ],
          "scatterpolar": [
           {
            "marker": {
             "colorbar": {
              "outlinewidth": 0,
              "ticks": ""
             }
            },
            "type": "scatterpolar"
           }
          ],
          "scatterpolargl": [
           {
            "marker": {
             "colorbar": {
              "outlinewidth": 0,
              "ticks": ""
             }
            },
            "type": "scatterpolargl"
           }
          ],
          "scatterternary": [
           {
            "marker": {
             "colorbar": {
              "outlinewidth": 0,
              "ticks": ""
             }
            },
            "type": "scatterternary"
           }
          ],
          "surface": [
           {
            "colorbar": {
             "outlinewidth": 0,
             "ticks": ""
            },
            "colorscale": [
             [
              0,
              "#0d0887"
             ],
             [
              0.1111111111111111,
              "#46039f"
             ],
             [
              0.2222222222222222,
              "#7201a8"
             ],
             [
              0.3333333333333333,
              "#9c179e"
             ],
             [
              0.4444444444444444,
              "#bd3786"
             ],
             [
              0.5555555555555556,
              "#d8576b"
             ],
             [
              0.6666666666666666,
              "#ed7953"
             ],
             [
              0.7777777777777778,
              "#fb9f3a"
             ],
             [
              0.8888888888888888,
              "#fdca26"
             ],
             [
              1,
              "#f0f921"
             ]
            ],
            "type": "surface"
           }
          ],
          "table": [
           {
            "cells": {
             "fill": {
              "color": "#EBF0F8"
             },
             "line": {
              "color": "white"
             }
            },
            "header": {
             "fill": {
              "color": "#C8D4E3"
             },
             "line": {
              "color": "white"
             }
            },
            "type": "table"
           }
          ]
         },
         "layout": {
          "annotationdefaults": {
           "arrowcolor": "#2a3f5f",
           "arrowhead": 0,
           "arrowwidth": 1
          },
          "autotypenumbers": "strict",
          "coloraxis": {
           "colorbar": {
            "outlinewidth": 0,
            "ticks": ""
           }
          },
          "colorscale": {
           "diverging": [
            [
             0,
             "#8e0152"
            ],
            [
             0.1,
             "#c51b7d"
            ],
            [
             0.2,
             "#de77ae"
            ],
            [
             0.3,
             "#f1b6da"
            ],
            [
             0.4,
             "#fde0ef"
            ],
            [
             0.5,
             "#f7f7f7"
            ],
            [
             0.6,
             "#e6f5d0"
            ],
            [
             0.7,
             "#b8e186"
            ],
            [
             0.8,
             "#7fbc41"
            ],
            [
             0.9,
             "#4d9221"
            ],
            [
             1,
             "#276419"
            ]
           ],
           "sequential": [
            [
             0,
             "#0d0887"
            ],
            [
             0.1111111111111111,
             "#46039f"
            ],
            [
             0.2222222222222222,
             "#7201a8"
            ],
            [
             0.3333333333333333,
             "#9c179e"
            ],
            [
             0.4444444444444444,
             "#bd3786"
            ],
            [
             0.5555555555555556,
             "#d8576b"
            ],
            [
             0.6666666666666666,
             "#ed7953"
            ],
            [
             0.7777777777777778,
             "#fb9f3a"
            ],
            [
             0.8888888888888888,
             "#fdca26"
            ],
            [
             1,
             "#f0f921"
            ]
           ],
           "sequentialminus": [
            [
             0,
             "#0d0887"
            ],
            [
             0.1111111111111111,
             "#46039f"
            ],
            [
             0.2222222222222222,
             "#7201a8"
            ],
            [
             0.3333333333333333,
             "#9c179e"
            ],
            [
             0.4444444444444444,
             "#bd3786"
            ],
            [
             0.5555555555555556,
             "#d8576b"
            ],
            [
             0.6666666666666666,
             "#ed7953"
            ],
            [
             0.7777777777777778,
             "#fb9f3a"
            ],
            [
             0.8888888888888888,
             "#fdca26"
            ],
            [
             1,
             "#f0f921"
            ]
           ]
          },
          "colorway": [
           "#636efa",
           "#EF553B",
           "#00cc96",
           "#ab63fa",
           "#FFA15A",
           "#19d3f3",
           "#FF6692",
           "#B6E880",
           "#FF97FF",
           "#FECB52"
          ],
          "font": {
           "color": "#2a3f5f"
          },
          "geo": {
           "bgcolor": "white",
           "lakecolor": "white",
           "landcolor": "#E5ECF6",
           "showlakes": true,
           "showland": true,
           "subunitcolor": "white"
          },
          "hoverlabel": {
           "align": "left"
          },
          "hovermode": "closest",
          "mapbox": {
           "style": "light"
          },
          "paper_bgcolor": "white",
          "plot_bgcolor": "#E5ECF6",
          "polar": {
           "angularaxis": {
            "gridcolor": "white",
            "linecolor": "white",
            "ticks": ""
           },
           "bgcolor": "#E5ECF6",
           "radialaxis": {
            "gridcolor": "white",
            "linecolor": "white",
            "ticks": ""
           }
          },
          "scene": {
           "xaxis": {
            "backgroundcolor": "#E5ECF6",
            "gridcolor": "white",
            "gridwidth": 2,
            "linecolor": "white",
            "showbackground": true,
            "ticks": "",
            "zerolinecolor": "white"
           },
           "yaxis": {
            "backgroundcolor": "#E5ECF6",
            "gridcolor": "white",
            "gridwidth": 2,
            "linecolor": "white",
            "showbackground": true,
            "ticks": "",
            "zerolinecolor": "white"
           },
           "zaxis": {
            "backgroundcolor": "#E5ECF6",
            "gridcolor": "white",
            "gridwidth": 2,
            "linecolor": "white",
            "showbackground": true,
            "ticks": "",
            "zerolinecolor": "white"
           }
          },
          "shapedefaults": {
           "line": {
            "color": "#2a3f5f"
           }
          },
          "ternary": {
           "aaxis": {
            "gridcolor": "white",
            "linecolor": "white",
            "ticks": ""
           },
           "baxis": {
            "gridcolor": "white",
            "linecolor": "white",
            "ticks": ""
           },
           "bgcolor": "#E5ECF6",
           "caxis": {
            "gridcolor": "white",
            "linecolor": "white",
            "ticks": ""
           }
          },
          "title": {
           "x": 0.05
          },
          "xaxis": {
           "automargin": true,
           "gridcolor": "white",
           "linecolor": "white",
           "ticks": "",
           "title": {
            "standoff": 15
           },
           "zerolinecolor": "white",
           "zerolinewidth": 2
          },
          "yaxis": {
           "automargin": true,
           "gridcolor": "white",
           "linecolor": "white",
           "ticks": "",
           "title": {
            "standoff": 15
           },
           "zerolinecolor": "white",
           "zerolinewidth": 2
          }
         }
        },
        "title": {
         "text": "Info Ratio of Different Regimes"
        },
        "width": 1200,
        "xaxis": {
         "anchor": "y",
         "domain": [
          0,
          0.2125
         ]
        },
        "xaxis2": {
         "anchor": "y2",
         "domain": [
          0.2625,
          0.475
         ]
        },
        "xaxis3": {
         "anchor": "y3",
         "domain": [
          0.525,
          0.7375
         ]
        },
        "xaxis4": {
         "anchor": "y4",
         "domain": [
          0.7875,
          1
         ]
        },
        "yaxis": {
         "anchor": "x",
         "domain": [
          0,
          1
         ]
        },
        "yaxis2": {
         "anchor": "x2",
         "domain": [
          0,
          1
         ]
        },
        "yaxis3": {
         "anchor": "x3",
         "domain": [
          0,
          1
         ]
        },
        "yaxis4": {
         "anchor": "x4",
         "domain": [
          0,
          1
         ]
        }
       }
      },
      "text/html": [
       "<div>                            <div id=\"01873b5b-08be-40f7-9677-fda8c4411068\" class=\"plotly-graph-div\" style=\"height:600px; width:1200px;\"></div>            <script type=\"text/javascript\">                require([\"plotly\"], function(Plotly) {                    window.PLOTLYENV=window.PLOTLYENV || {};                                    if (document.getElementById(\"01873b5b-08be-40f7-9677-fda8c4411068\")) {                    Plotly.newPlot(                        \"01873b5b-08be-40f7-9677-fda8c4411068\",                        [{\"name\":\"Info Ratio\",\"x\":[\"MSCI US Momentum index\",\"MSCI US Quality index\",\"MSCI US Min Vol index\",\"MSCI US Value index\",\"MSCI US Growth index\",\"Russell 2000\",\"US IG corporate bonds index\",\"GSCI commodity index\",\"US 10-year Treasury Bond Index\",\"US 3-month T-bill Index\"],\"y\":[0.49215971671379133,0.334242313936555,0.8598175880810845,0.008118259206577166,0.04419406217927032,-0.3866265741707505,0.14153068501124944,-0.47850054356393934,0.19025153420867477,-0.06871078592039626],\"type\":\"bar\",\"xaxis\":\"x\",\"yaxis\":\"y\"},{\"name\":\"Info Ratio\",\"x\":[\"MSCI US Momentum index\",\"MSCI US Quality index\",\"MSCI US Min Vol index\",\"MSCI US Value index\",\"MSCI US Growth index\",\"Russell 2000\",\"US IG corporate bonds index\",\"GSCI commodity index\",\"US 10-year Treasury Bond Index\",\"US 3-month T-bill Index\"],\"y\":[0.2170898191681148,0.4931162056145534,-0.14316423479602713,-0.3111686282071219,0.24013976046272964,-0.3266940286522219,-0.1231158534528774,0.22673095293993833,-0.12959397801987746,-0.2778817665067484],\"type\":\"bar\",\"xaxis\":\"x2\",\"yaxis\":\"y2\"},{\"name\":\"Info Ratio\",\"x\":[\"MSCI US Momentum index\",\"MSCI US Quality index\",\"MSCI US Min Vol index\",\"MSCI US Value index\",\"MSCI US Growth index\",\"Russell 2000\",\"US IG corporate bonds index\",\"GSCI commodity index\",\"US 10-year Treasury Bond Index\",\"US 3-month T-bill Index\"],\"y\":[0.08731656875196434,1.1576783445514878,0.8477331366782795,-0.008615050376156586,0.39643179677191576,-0.15826553716157823,0.5280683769251007,-1.6849278089188968,0.6471670248573382,0.21885000107620992],\"type\":\"bar\",\"xaxis\":\"x3\",\"yaxis\":\"y3\"},{\"name\":\"Info Ratio\",\"x\":[\"MSCI US Momentum index\",\"MSCI US Quality index\",\"MSCI US Min Vol index\",\"MSCI US Value index\",\"MSCI US Growth index\",\"Russell 2000\",\"US IG corporate bonds index\",\"GSCI commodity index\",\"US 10-year Treasury Bond Index\",\"US 3-month T-bill Index\"],\"y\":[0.3432724245144044,-0.013390067121883351,0.17270070108399962,-0.05198159225935136,0.09861089694952334,0.29760779137776405,-0.8940598813141571,1.193943252801289,-0.8259571994160664,-1.3104113042391723],\"type\":\"bar\",\"xaxis\":\"x4\",\"yaxis\":\"y4\"}],                        {\"template\":{\"data\":{\"histogram2dcontour\":[{\"type\":\"histogram2dcontour\",\"colorbar\":{\"outlinewidth\":0,\"ticks\":\"\"},\"colorscale\":[[0.0,\"#0d0887\"],[0.1111111111111111,\"#46039f\"],[0.2222222222222222,\"#7201a8\"],[0.3333333333333333,\"#9c179e\"],[0.4444444444444444,\"#bd3786\"],[0.5555555555555556,\"#d8576b\"],[0.6666666666666666,\"#ed7953\"],[0.7777777777777778,\"#fb9f3a\"],[0.8888888888888888,\"#fdca26\"],[1.0,\"#f0f921\"]]}],\"choropleth\":[{\"type\":\"choropleth\",\"colorbar\":{\"outlinewidth\":0,\"ticks\":\"\"}}],\"histogram2d\":[{\"type\":\"histogram2d\",\"colorbar\":{\"outlinewidth\":0,\"ticks\":\"\"},\"colorscale\":[[0.0,\"#0d0887\"],[0.1111111111111111,\"#46039f\"],[0.2222222222222222,\"#7201a8\"],[0.3333333333333333,\"#9c179e\"],[0.4444444444444444,\"#bd3786\"],[0.5555555555555556,\"#d8576b\"],[0.6666666666666666,\"#ed7953\"],[0.7777777777777778,\"#fb9f3a\"],[0.8888888888888888,\"#fdca26\"],[1.0,\"#f0f921\"]]}],\"heatmap\":[{\"type\":\"heatmap\",\"colorbar\":{\"outlinewidth\":0,\"ticks\":\"\"},\"colorscale\":[[0.0,\"#0d0887\"],[0.1111111111111111,\"#46039f\"],[0.2222222222222222,\"#7201a8\"],[0.3333333333333333,\"#9c179e\"],[0.4444444444444444,\"#bd3786\"],[0.5555555555555556,\"#d8576b\"],[0.6666666666666666,\"#ed7953\"],[0.7777777777777778,\"#fb9f3a\"],[0.8888888888888888,\"#fdca26\"],[1.0,\"#f0f921\"]]}],\"heatmapgl\":[{\"type\":\"heatmapgl\",\"colorbar\":{\"outlinewidth\":0,\"ticks\":\"\"},\"colorscale\":[[0.0,\"#0d0887\"],[0.1111111111111111,\"#46039f\"],[0.2222222222222222,\"#7201a8\"],[0.3333333333333333,\"#9c179e\"],[0.4444444444444444,\"#bd3786\"],[0.5555555555555556,\"#d8576b\"],[0.6666666666666666,\"#ed7953\"],[0.7777777777777778,\"#fb9f3a\"],[0.8888888888888888,\"#fdca26\"],[1.0,\"#f0f921\"]]}],\"contourcarpet\":[{\"type\":\"contourcarpet\",\"colorbar\":{\"outlinewidth\":0,\"ticks\":\"\"}}],\"contour\":[{\"type\":\"contour\",\"colorbar\":{\"outlinewidth\":0,\"ticks\":\"\"},\"colorscale\":[[0.0,\"#0d0887\"],[0.1111111111111111,\"#46039f\"],[0.2222222222222222,\"#7201a8\"],[0.3333333333333333,\"#9c179e\"],[0.4444444444444444,\"#bd3786\"],[0.5555555555555556,\"#d8576b\"],[0.6666666666666666,\"#ed7953\"],[0.7777777777777778,\"#fb9f3a\"],[0.8888888888888888,\"#fdca26\"],[1.0,\"#f0f921\"]]}],\"surface\":[{\"type\":\"surface\",\"colorbar\":{\"outlinewidth\":0,\"ticks\":\"\"},\"colorscale\":[[0.0,\"#0d0887\"],[0.1111111111111111,\"#46039f\"],[0.2222222222222222,\"#7201a8\"],[0.3333333333333333,\"#9c179e\"],[0.4444444444444444,\"#bd3786\"],[0.5555555555555556,\"#d8576b\"],[0.6666666666666666,\"#ed7953\"],[0.7777777777777778,\"#fb9f3a\"],[0.8888888888888888,\"#fdca26\"],[1.0,\"#f0f921\"]]}],\"mesh3d\":[{\"type\":\"mesh3d\",\"colorbar\":{\"outlinewidth\":0,\"ticks\":\"\"}}],\"scatter\":[{\"fillpattern\":{\"fillmode\":\"overlay\",\"size\":10,\"solidity\":0.2},\"type\":\"scatter\"}],\"parcoords\":[{\"type\":\"parcoords\",\"line\":{\"colorbar\":{\"outlinewidth\":0,\"ticks\":\"\"}}}],\"scatterpolargl\":[{\"type\":\"scatterpolargl\",\"marker\":{\"colorbar\":{\"outlinewidth\":0,\"ticks\":\"\"}}}],\"bar\":[{\"error_x\":{\"color\":\"#2a3f5f\"},\"error_y\":{\"color\":\"#2a3f5f\"},\"marker\":{\"line\":{\"color\":\"#E5ECF6\",\"width\":0.5},\"pattern\":{\"fillmode\":\"overlay\",\"size\":10,\"solidity\":0.2}},\"type\":\"bar\"}],\"scattergeo\":[{\"type\":\"scattergeo\",\"marker\":{\"colorbar\":{\"outlinewidth\":0,\"ticks\":\"\"}}}],\"scatterpolar\":[{\"type\":\"scatterpolar\",\"marker\":{\"colorbar\":{\"outlinewidth\":0,\"ticks\":\"\"}}}],\"histogram\":[{\"marker\":{\"pattern\":{\"fillmode\":\"overlay\",\"size\":10,\"solidity\":0.2}},\"type\":\"histogram\"}],\"scattergl\":[{\"type\":\"scattergl\",\"marker\":{\"colorbar\":{\"outlinewidth\":0,\"ticks\":\"\"}}}],\"scatter3d\":[{\"type\":\"scatter3d\",\"line\":{\"colorbar\":{\"outlinewidth\":0,\"ticks\":\"\"}},\"marker\":{\"colorbar\":{\"outlinewidth\":0,\"ticks\":\"\"}}}],\"scattermapbox\":[{\"type\":\"scattermapbox\",\"marker\":{\"colorbar\":{\"outlinewidth\":0,\"ticks\":\"\"}}}],\"scatterternary\":[{\"type\":\"scatterternary\",\"marker\":{\"colorbar\":{\"outlinewidth\":0,\"ticks\":\"\"}}}],\"scattercarpet\":[{\"type\":\"scattercarpet\",\"marker\":{\"colorbar\":{\"outlinewidth\":0,\"ticks\":\"\"}}}],\"carpet\":[{\"aaxis\":{\"endlinecolor\":\"#2a3f5f\",\"gridcolor\":\"white\",\"linecolor\":\"white\",\"minorgridcolor\":\"white\",\"startlinecolor\":\"#2a3f5f\"},\"baxis\":{\"endlinecolor\":\"#2a3f5f\",\"gridcolor\":\"white\",\"linecolor\":\"white\",\"minorgridcolor\":\"white\",\"startlinecolor\":\"#2a3f5f\"},\"type\":\"carpet\"}],\"table\":[{\"cells\":{\"fill\":{\"color\":\"#EBF0F8\"},\"line\":{\"color\":\"white\"}},\"header\":{\"fill\":{\"color\":\"#C8D4E3\"},\"line\":{\"color\":\"white\"}},\"type\":\"table\"}],\"barpolar\":[{\"marker\":{\"line\":{\"color\":\"#E5ECF6\",\"width\":0.5},\"pattern\":{\"fillmode\":\"overlay\",\"size\":10,\"solidity\":0.2}},\"type\":\"barpolar\"}],\"pie\":[{\"automargin\":true,\"type\":\"pie\"}]},\"layout\":{\"autotypenumbers\":\"strict\",\"colorway\":[\"#636efa\",\"#EF553B\",\"#00cc96\",\"#ab63fa\",\"#FFA15A\",\"#19d3f3\",\"#FF6692\",\"#B6E880\",\"#FF97FF\",\"#FECB52\"],\"font\":{\"color\":\"#2a3f5f\"},\"hovermode\":\"closest\",\"hoverlabel\":{\"align\":\"left\"},\"paper_bgcolor\":\"white\",\"plot_bgcolor\":\"#E5ECF6\",\"polar\":{\"bgcolor\":\"#E5ECF6\",\"angularaxis\":{\"gridcolor\":\"white\",\"linecolor\":\"white\",\"ticks\":\"\"},\"radialaxis\":{\"gridcolor\":\"white\",\"linecolor\":\"white\",\"ticks\":\"\"}},\"ternary\":{\"bgcolor\":\"#E5ECF6\",\"aaxis\":{\"gridcolor\":\"white\",\"linecolor\":\"white\",\"ticks\":\"\"},\"baxis\":{\"gridcolor\":\"white\",\"linecolor\":\"white\",\"ticks\":\"\"},\"caxis\":{\"gridcolor\":\"white\",\"linecolor\":\"white\",\"ticks\":\"\"}},\"coloraxis\":{\"colorbar\":{\"outlinewidth\":0,\"ticks\":\"\"}},\"colorscale\":{\"sequential\":[[0.0,\"#0d0887\"],[0.1111111111111111,\"#46039f\"],[0.2222222222222222,\"#7201a8\"],[0.3333333333333333,\"#9c179e\"],[0.4444444444444444,\"#bd3786\"],[0.5555555555555556,\"#d8576b\"],[0.6666666666666666,\"#ed7953\"],[0.7777777777777778,\"#fb9f3a\"],[0.8888888888888888,\"#fdca26\"],[1.0,\"#f0f921\"]],\"sequentialminus\":[[0.0,\"#0d0887\"],[0.1111111111111111,\"#46039f\"],[0.2222222222222222,\"#7201a8\"],[0.3333333333333333,\"#9c179e\"],[0.4444444444444444,\"#bd3786\"],[0.5555555555555556,\"#d8576b\"],[0.6666666666666666,\"#ed7953\"],[0.7777777777777778,\"#fb9f3a\"],[0.8888888888888888,\"#fdca26\"],[1.0,\"#f0f921\"]],\"diverging\":[[0,\"#8e0152\"],[0.1,\"#c51b7d\"],[0.2,\"#de77ae\"],[0.3,\"#f1b6da\"],[0.4,\"#fde0ef\"],[0.5,\"#f7f7f7\"],[0.6,\"#e6f5d0\"],[0.7,\"#b8e186\"],[0.8,\"#7fbc41\"],[0.9,\"#4d9221\"],[1,\"#276419\"]]},\"xaxis\":{\"gridcolor\":\"white\",\"linecolor\":\"white\",\"ticks\":\"\",\"title\":{\"standoff\":15},\"zerolinecolor\":\"white\",\"automargin\":true,\"zerolinewidth\":2},\"yaxis\":{\"gridcolor\":\"white\",\"linecolor\":\"white\",\"ticks\":\"\",\"title\":{\"standoff\":15},\"zerolinecolor\":\"white\",\"automargin\":true,\"zerolinewidth\":2},\"scene\":{\"xaxis\":{\"backgroundcolor\":\"#E5ECF6\",\"gridcolor\":\"white\",\"linecolor\":\"white\",\"showbackground\":true,\"ticks\":\"\",\"zerolinecolor\":\"white\",\"gridwidth\":2},\"yaxis\":{\"backgroundcolor\":\"#E5ECF6\",\"gridcolor\":\"white\",\"linecolor\":\"white\",\"showbackground\":true,\"ticks\":\"\",\"zerolinecolor\":\"white\",\"gridwidth\":2},\"zaxis\":{\"backgroundcolor\":\"#E5ECF6\",\"gridcolor\":\"white\",\"linecolor\":\"white\",\"showbackground\":true,\"ticks\":\"\",\"zerolinecolor\":\"white\",\"gridwidth\":2}},\"shapedefaults\":{\"line\":{\"color\":\"#2a3f5f\"}},\"annotationdefaults\":{\"arrowcolor\":\"#2a3f5f\",\"arrowhead\":0,\"arrowwidth\":1},\"geo\":{\"bgcolor\":\"white\",\"landcolor\":\"#E5ECF6\",\"subunitcolor\":\"white\",\"showland\":true,\"showlakes\":true,\"lakecolor\":\"white\"},\"title\":{\"x\":0.05},\"mapbox\":{\"style\":\"light\"}}},\"xaxis\":{\"anchor\":\"y\",\"domain\":[0.0,0.2125]},\"yaxis\":{\"anchor\":\"x\",\"domain\":[0.0,1.0]},\"xaxis2\":{\"anchor\":\"y2\",\"domain\":[0.2625,0.475]},\"yaxis2\":{\"anchor\":\"x2\",\"domain\":[0.0,1.0]},\"xaxis3\":{\"anchor\":\"y3\",\"domain\":[0.525,0.7375]},\"yaxis3\":{\"anchor\":\"x3\",\"domain\":[0.0,1.0]},\"xaxis4\":{\"anchor\":\"y4\",\"domain\":[0.7875,1.0]},\"yaxis4\":{\"anchor\":\"x4\",\"domain\":[0.0,1.0]},\"annotations\":[{\"font\":{\"size\":16},\"showarrow\":false,\"text\":\"Expansion\",\"x\":0.10625,\"xanchor\":\"center\",\"xref\":\"paper\",\"y\":1.0,\"yanchor\":\"bottom\",\"yref\":\"paper\"},{\"font\":{\"size\":16},\"showarrow\":false,\"text\":\"SlowDown\",\"x\":0.36875,\"xanchor\":\"center\",\"xref\":\"paper\",\"y\":1.0,\"yanchor\":\"bottom\",\"yref\":\"paper\"},{\"font\":{\"size\":16},\"showarrow\":false,\"text\":\"Contraction\",\"x\":0.6312500000000001,\"xanchor\":\"center\",\"xref\":\"paper\",\"y\":1.0,\"yanchor\":\"bottom\",\"yref\":\"paper\"},{\"font\":{\"size\":16},\"showarrow\":false,\"text\":\"Recovery\",\"x\":0.89375,\"xanchor\":\"center\",\"xref\":\"paper\",\"y\":1.0,\"yanchor\":\"bottom\",\"yref\":\"paper\"}],\"width\":1200,\"height\":600,\"title\":{\"text\":\"Info Ratio of Different Regimes\"},\"showlegend\":false},                        {\"responsive\": true}                    ).then(function(){\n",
       "                            \n",
       "var gd = document.getElementById('01873b5b-08be-40f7-9677-fda8c4411068');\n",
       "var x = new MutationObserver(function (mutations, observer) {{\n",
       "        var display = window.getComputedStyle(gd).display;\n",
       "        if (!display || display === 'none') {{\n",
       "            console.log([gd, 'removed!']);\n",
       "            Plotly.purge(gd);\n",
       "            observer.disconnect();\n",
       "        }}\n",
       "}});\n",
       "\n",
       "// Listen for the removal of the full notebook cells\n",
       "var notebookContainer = gd.closest('#notebook-container');\n",
       "if (notebookContainer) {{\n",
       "    x.observe(notebookContainer, {childList: true});\n",
       "}}\n",
       "\n",
       "// Listen for the clearing of the current output cell\n",
       "var outputEl = gd.closest('.output');\n",
       "if (outputEl) {{\n",
       "    x.observe(outputEl, {childList: true});\n",
       "}}\n",
       "\n",
       "                        })                };                });            </script>        </div>"
      ]
     },
     "metadata": {},
     "output_type": "display_data"
    }
   ],
   "source": [
    "import plotly.graph_objects as go\n",
    "from plotly.subplots import make_subplots\n",
    "\n",
    "# Create subplots with 2 rows and 2 columns\n",
    "fig = make_subplots(rows=1, cols=4, subplot_titles=['Expansion', 'SlowDown', 'Contraction', 'Recovery'])\n",
    "\n",
    "for i, regime_name in enumerate(['Expansion', 'SlowDown', 'Contraction', 'Recovery']):\n",
    "    info_ratio = regimeDf[regimeDf['Regime'] == regime_name].loc[['Info Ratio']].drop(['Benchmark', 'Regime'], axis=1)\n",
    "    \n",
    "    # Add a bar trace to the subplot\n",
    "    trace = go.Bar(x=info_ratio.columns, y=info_ratio.loc['Info Ratio'], name='Info Ratio')\n",
    "    row = 1 \n",
    "    col = i + 1\n",
    "    fig.add_trace(trace, row=row, col=col)\n",
    "fig.update_layout(width=1200, height=600)\n",
    "# Update layout\n",
    "fig.update_layout(title_text='Info Ratio of Different Regimes', showlegend=False)\n",
    "\n",
    "# Show the plot\n",
    "fig.show()\n"
   ]
  },
  {
   "cell_type": "code",
   "execution_count": null,
   "id": "bca7423a",
   "metadata": {},
   "outputs": [],
   "source": []
  }
 ],
 "metadata": {
  "kernelspec": {
   "display_name": "Python 3 (ipykernel)",
   "language": "python",
   "name": "python3"
  },
  "language_info": {
   "codemirror_mode": {
    "name": "ipython",
    "version": 3
   },
   "file_extension": ".py",
   "mimetype": "text/x-python",
   "name": "python",
   "nbconvert_exporter": "python",
   "pygments_lexer": "ipython3",
   "version": "3.9.13"
  }
 },
 "nbformat": 4,
 "nbformat_minor": 5
}
